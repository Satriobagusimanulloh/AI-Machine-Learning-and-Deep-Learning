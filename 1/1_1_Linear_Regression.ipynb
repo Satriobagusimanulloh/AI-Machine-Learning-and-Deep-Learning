{
  "cells": [
    {
      "cell_type": "code",
      "execution_count": 1,
      "metadata": {
        "id": "hCmUtzTRpH2b"
      },
      "outputs": [],
      "source": [
        "import pandas as pd\n",
        "import numpy as np\n",
        "from sklearn.model_selection import train_test_split\n",
        "from sklearn.linear_model import LinearRegression"
      ]
    },
    {
      "cell_type": "code",
      "execution_count": 3,
      "metadata": {
        "colab": {
          "base_uri": "https://localhost:8080/",
          "height": 206
        },
        "id": "DRKdH-oxqrE2",
        "outputId": "bc8667e0-6118-4793-93c5-f11388742ce7"
      },
      "outputs": [
        {
          "data": {
            "text/html": [
              "<div>\n",
              "<style scoped>\n",
              "    .dataframe tbody tr th:only-of-type {\n",
              "        vertical-align: middle;\n",
              "    }\n",
              "\n",
              "    .dataframe tbody tr th {\n",
              "        vertical-align: top;\n",
              "    }\n",
              "\n",
              "    .dataframe thead th {\n",
              "        text-align: right;\n",
              "    }\n",
              "</style>\n",
              "<table border=\"1\" class=\"dataframe\">\n",
              "  <thead>\n",
              "    <tr style=\"text-align: right;\">\n",
              "      <th></th>\n",
              "      <th>bedroom_count</th>\n",
              "      <th>net_sqm</th>\n",
              "      <th>center_distance</th>\n",
              "      <th>metro_distance</th>\n",
              "      <th>floor</th>\n",
              "      <th>age</th>\n",
              "      <th>price</th>\n",
              "    </tr>\n",
              "  </thead>\n",
              "  <tbody>\n",
              "    <tr>\n",
              "      <th>0</th>\n",
              "      <td>1</td>\n",
              "      <td>26.184098</td>\n",
              "      <td>1286.68</td>\n",
              "      <td>204.003817</td>\n",
              "      <td>22</td>\n",
              "      <td>67</td>\n",
              "      <td>96004.804557</td>\n",
              "    </tr>\n",
              "    <tr>\n",
              "      <th>1</th>\n",
              "      <td>1</td>\n",
              "      <td>34.866901</td>\n",
              "      <td>1855.25</td>\n",
              "      <td>186.980360</td>\n",
              "      <td>8</td>\n",
              "      <td>30</td>\n",
              "      <td>92473.722568</td>\n",
              "    </tr>\n",
              "    <tr>\n",
              "      <th>2</th>\n",
              "      <td>1</td>\n",
              "      <td>36.980709</td>\n",
              "      <td>692.09</td>\n",
              "      <td>111.224999</td>\n",
              "      <td>24</td>\n",
              "      <td>24</td>\n",
              "      <td>98112.519942</td>\n",
              "    </tr>\n",
              "    <tr>\n",
              "      <th>3</th>\n",
              "      <td>1</td>\n",
              "      <td>17.445723</td>\n",
              "      <td>1399.49</td>\n",
              "      <td>237.998760</td>\n",
              "      <td>1</td>\n",
              "      <td>66</td>\n",
              "      <td>92118.326874</td>\n",
              "    </tr>\n",
              "    <tr>\n",
              "      <th>4</th>\n",
              "      <td>1</td>\n",
              "      <td>52.587646</td>\n",
              "      <td>84.65</td>\n",
              "      <td>100.996400</td>\n",
              "      <td>20</td>\n",
              "      <td>3</td>\n",
              "      <td>98976.653176</td>\n",
              "    </tr>\n",
              "  </tbody>\n",
              "</table>\n",
              "</div>"
            ],
            "text/plain": [
              "   bedroom_count    net_sqm  center_distance  metro_distance  floor  age  \\\n",
              "0              1  26.184098          1286.68      204.003817     22   67   \n",
              "1              1  34.866901          1855.25      186.980360      8   30   \n",
              "2              1  36.980709           692.09      111.224999     24   24   \n",
              "3              1  17.445723          1399.49      237.998760      1   66   \n",
              "4              1  52.587646            84.65      100.996400     20    3   \n",
              "\n",
              "          price  \n",
              "0  96004.804557  \n",
              "1  92473.722568  \n",
              "2  98112.519942  \n",
              "3  92118.326874  \n",
              "4  98976.653176  "
            ]
          },
          "execution_count": 3,
          "metadata": {},
          "output_type": "execute_result"
        }
      ],
      "source": [
        "df = pd.read_csv(\"dataset/house.csv\")\n",
        "df.head()"
      ]
    },
    {
      "cell_type": "code",
      "execution_count": 4,
      "metadata": {
        "colab": {
          "base_uri": "https://localhost:8080/",
          "height": 300
        },
        "id": "Ttb2JT6dq036",
        "outputId": "fc559bce-d33d-493d-ce9b-d1ab63997626"
      },
      "outputs": [
        {
          "data": {
            "text/html": [
              "<div>\n",
              "<style scoped>\n",
              "    .dataframe tbody tr th:only-of-type {\n",
              "        vertical-align: middle;\n",
              "    }\n",
              "\n",
              "    .dataframe tbody tr th {\n",
              "        vertical-align: top;\n",
              "    }\n",
              "\n",
              "    .dataframe thead th {\n",
              "        text-align: right;\n",
              "    }\n",
              "</style>\n",
              "<table border=\"1\" class=\"dataframe\">\n",
              "  <thead>\n",
              "    <tr style=\"text-align: right;\">\n",
              "      <th></th>\n",
              "      <th>bedroom_count</th>\n",
              "      <th>net_sqm</th>\n",
              "      <th>center_distance</th>\n",
              "      <th>metro_distance</th>\n",
              "      <th>floor</th>\n",
              "      <th>age</th>\n",
              "      <th>price</th>\n",
              "    </tr>\n",
              "  </thead>\n",
              "  <tbody>\n",
              "    <tr>\n",
              "      <th>count</th>\n",
              "      <td>4308.000000</td>\n",
              "      <td>4308.000000</td>\n",
              "      <td>4308.000000</td>\n",
              "      <td>4308.000000</td>\n",
              "      <td>4308.000000</td>\n",
              "      <td>4308.000000</td>\n",
              "      <td>4308.000000</td>\n",
              "    </tr>\n",
              "    <tr>\n",
              "      <th>mean</th>\n",
              "      <td>3.732823</td>\n",
              "      <td>118.941327</td>\n",
              "      <td>1090.544301</td>\n",
              "      <td>105.665358</td>\n",
              "      <td>9.397168</td>\n",
              "      <td>48.576834</td>\n",
              "      <td>95701.196185</td>\n",
              "    </tr>\n",
              "    <tr>\n",
              "      <th>std</th>\n",
              "      <td>2.476989</td>\n",
              "      <td>95.469802</td>\n",
              "      <td>555.325830</td>\n",
              "      <td>60.750825</td>\n",
              "      <td>7.517018</td>\n",
              "      <td>27.621465</td>\n",
              "      <td>3919.823988</td>\n",
              "    </tr>\n",
              "    <tr>\n",
              "      <th>min</th>\n",
              "      <td>1.000000</td>\n",
              "      <td>10.244518</td>\n",
              "      <td>11.800000</td>\n",
              "      <td>1.245338</td>\n",
              "      <td>1.000000</td>\n",
              "      <td>0.000000</td>\n",
              "      <td>86113.592974</td>\n",
              "    </tr>\n",
              "    <tr>\n",
              "      <th>25%</th>\n",
              "      <td>2.000000</td>\n",
              "      <td>52.240659</td>\n",
              "      <td>635.897500</td>\n",
              "      <td>56.156897</td>\n",
              "      <td>2.000000</td>\n",
              "      <td>25.000000</td>\n",
              "      <td>92934.251436</td>\n",
              "    </tr>\n",
              "    <tr>\n",
              "      <th>50%</th>\n",
              "      <td>3.000000</td>\n",
              "      <td>91.828201</td>\n",
              "      <td>1143.135000</td>\n",
              "      <td>101.388012</td>\n",
              "      <td>8.000000</td>\n",
              "      <td>48.000000</td>\n",
              "      <td>95337.792918</td>\n",
              "    </tr>\n",
              "    <tr>\n",
              "      <th>75%</th>\n",
              "      <td>5.000000</td>\n",
              "      <td>150.987591</td>\n",
              "      <td>1554.280000</td>\n",
              "      <td>148.481068</td>\n",
              "      <td>16.000000</td>\n",
              "      <td>72.000000</td>\n",
              "      <td>97980.675094</td>\n",
              "    </tr>\n",
              "    <tr>\n",
              "      <th>max</th>\n",
              "      <td>17.000000</td>\n",
              "      <td>750.971604</td>\n",
              "      <td>1999.840000</td>\n",
              "      <td>330.275317</td>\n",
              "      <td>24.000000</td>\n",
              "      <td>97.000000</td>\n",
              "      <td>118134.771190</td>\n",
              "    </tr>\n",
              "  </tbody>\n",
              "</table>\n",
              "</div>"
            ],
            "text/plain": [
              "       bedroom_count      net_sqm  center_distance  metro_distance  \\\n",
              "count    4308.000000  4308.000000      4308.000000     4308.000000   \n",
              "mean        3.732823   118.941327      1090.544301      105.665358   \n",
              "std         2.476989    95.469802       555.325830       60.750825   \n",
              "min         1.000000    10.244518        11.800000        1.245338   \n",
              "25%         2.000000    52.240659       635.897500       56.156897   \n",
              "50%         3.000000    91.828201      1143.135000      101.388012   \n",
              "75%         5.000000   150.987591      1554.280000      148.481068   \n",
              "max        17.000000   750.971604      1999.840000      330.275317   \n",
              "\n",
              "             floor          age          price  \n",
              "count  4308.000000  4308.000000    4308.000000  \n",
              "mean      9.397168    48.576834   95701.196185  \n",
              "std       7.517018    27.621465    3919.823988  \n",
              "min       1.000000     0.000000   86113.592974  \n",
              "25%       2.000000    25.000000   92934.251436  \n",
              "50%       8.000000    48.000000   95337.792918  \n",
              "75%      16.000000    72.000000   97980.675094  \n",
              "max      24.000000    97.000000  118134.771190  "
            ]
          },
          "execution_count": 4,
          "metadata": {},
          "output_type": "execute_result"
        }
      ],
      "source": [
        "df.describe()"
      ]
    },
    {
      "cell_type": "code",
      "execution_count": 5,
      "metadata": {
        "colab": {
          "base_uri": "https://localhost:8080/"
        },
        "id": "p6sO3Cy4q6Zp",
        "outputId": "07ec7ae6-d34c-4513-f3a4-a84144ab415d"
      },
      "outputs": [
        {
          "name": "stdout",
          "output_type": "stream",
          "text": [
            "<class 'pandas.core.frame.DataFrame'>\n",
            "RangeIndex: 4308 entries, 0 to 4307\n",
            "Data columns (total 7 columns):\n",
            " #   Column           Non-Null Count  Dtype  \n",
            "---  ------           --------------  -----  \n",
            " 0   bedroom_count    4308 non-null   int64  \n",
            " 1   net_sqm          4308 non-null   float64\n",
            " 2   center_distance  4308 non-null   float64\n",
            " 3   metro_distance   4308 non-null   float64\n",
            " 4   floor            4308 non-null   int64  \n",
            " 5   age              4308 non-null   int64  \n",
            " 6   price            4308 non-null   float64\n",
            "dtypes: float64(4), int64(3)\n",
            "memory usage: 235.7 KB\n"
          ]
        }
      ],
      "source": [
        "df.info()"
      ]
    },
    {
      "cell_type": "code",
      "execution_count": 6,
      "metadata": {
        "colab": {
          "base_uri": "https://localhost:8080/"
        },
        "id": "E3ZjC53_q89_",
        "outputId": "d8f2a596-6ba4-4410-ffc7-5e5d04fe8cca"
      },
      "outputs": [
        {
          "data": {
            "text/plain": [
              "bedroom_count      0\n",
              "net_sqm            0\n",
              "center_distance    0\n",
              "metro_distance     0\n",
              "floor              0\n",
              "age                0\n",
              "price              0\n",
              "dtype: int64"
            ]
          },
          "execution_count": 6,
          "metadata": {},
          "output_type": "execute_result"
        }
      ],
      "source": [
        "df.isna().sum()"
      ]
    },
    {
      "cell_type": "code",
      "execution_count": 7,
      "metadata": {
        "colab": {
          "base_uri": "https://localhost:8080/",
          "height": 269
        },
        "id": "rGBwu5GFugXL",
        "outputId": "90561a2a-fcb5-403f-f15b-5b3407e471b1"
      },
      "outputs": [
        {
          "data": {
            "text/html": [
              "<div>\n",
              "<style scoped>\n",
              "    .dataframe tbody tr th:only-of-type {\n",
              "        vertical-align: middle;\n",
              "    }\n",
              "\n",
              "    .dataframe tbody tr th {\n",
              "        vertical-align: top;\n",
              "    }\n",
              "\n",
              "    .dataframe thead th {\n",
              "        text-align: right;\n",
              "    }\n",
              "</style>\n",
              "<table border=\"1\" class=\"dataframe\">\n",
              "  <thead>\n",
              "    <tr style=\"text-align: right;\">\n",
              "      <th></th>\n",
              "      <th>bedroom_count</th>\n",
              "      <th>net_sqm</th>\n",
              "      <th>center_distance</th>\n",
              "      <th>metro_distance</th>\n",
              "      <th>floor</th>\n",
              "      <th>age</th>\n",
              "      <th>price</th>\n",
              "    </tr>\n",
              "  </thead>\n",
              "  <tbody>\n",
              "    <tr>\n",
              "      <th>bedroom_count</th>\n",
              "      <td>1.000000</td>\n",
              "      <td>0.753441</td>\n",
              "      <td>-0.014428</td>\n",
              "      <td>0.022111</td>\n",
              "      <td>-0.534736</td>\n",
              "      <td>-0.056951</td>\n",
              "      <td>0.552405</td>\n",
              "    </tr>\n",
              "    <tr>\n",
              "      <th>net_sqm</th>\n",
              "      <td>0.753441</td>\n",
              "      <td>1.000000</td>\n",
              "      <td>-0.008848</td>\n",
              "      <td>0.031006</td>\n",
              "      <td>-0.409225</td>\n",
              "      <td>-0.050120</td>\n",
              "      <td>0.681987</td>\n",
              "    </tr>\n",
              "    <tr>\n",
              "      <th>center_distance</th>\n",
              "      <td>-0.014428</td>\n",
              "      <td>-0.008848</td>\n",
              "      <td>1.000000</td>\n",
              "      <td>0.581200</td>\n",
              "      <td>0.022840</td>\n",
              "      <td>0.011684</td>\n",
              "      <td>-0.418161</td>\n",
              "    </tr>\n",
              "    <tr>\n",
              "      <th>metro_distance</th>\n",
              "      <td>0.022111</td>\n",
              "      <td>0.031006</td>\n",
              "      <td>0.581200</td>\n",
              "      <td>1.000000</td>\n",
              "      <td>0.003137</td>\n",
              "      <td>0.011848</td>\n",
              "      <td>-0.146373</td>\n",
              "    </tr>\n",
              "    <tr>\n",
              "      <th>floor</th>\n",
              "      <td>-0.534736</td>\n",
              "      <td>-0.409225</td>\n",
              "      <td>0.022840</td>\n",
              "      <td>0.003137</td>\n",
              "      <td>1.000000</td>\n",
              "      <td>0.022045</td>\n",
              "      <td>-0.136713</td>\n",
              "    </tr>\n",
              "    <tr>\n",
              "      <th>age</th>\n",
              "      <td>-0.056951</td>\n",
              "      <td>-0.050120</td>\n",
              "      <td>0.011684</td>\n",
              "      <td>0.011848</td>\n",
              "      <td>0.022045</td>\n",
              "      <td>1.000000</td>\n",
              "      <td>-0.225119</td>\n",
              "    </tr>\n",
              "    <tr>\n",
              "      <th>price</th>\n",
              "      <td>0.552405</td>\n",
              "      <td>0.681987</td>\n",
              "      <td>-0.418161</td>\n",
              "      <td>-0.146373</td>\n",
              "      <td>-0.136713</td>\n",
              "      <td>-0.225119</td>\n",
              "      <td>1.000000</td>\n",
              "    </tr>\n",
              "  </tbody>\n",
              "</table>\n",
              "</div>"
            ],
            "text/plain": [
              "                 bedroom_count   net_sqm  center_distance  metro_distance  \\\n",
              "bedroom_count         1.000000  0.753441        -0.014428        0.022111   \n",
              "net_sqm               0.753441  1.000000        -0.008848        0.031006   \n",
              "center_distance      -0.014428 -0.008848         1.000000        0.581200   \n",
              "metro_distance        0.022111  0.031006         0.581200        1.000000   \n",
              "floor                -0.534736 -0.409225         0.022840        0.003137   \n",
              "age                  -0.056951 -0.050120         0.011684        0.011848   \n",
              "price                 0.552405  0.681987        -0.418161       -0.146373   \n",
              "\n",
              "                    floor       age     price  \n",
              "bedroom_count   -0.534736 -0.056951  0.552405  \n",
              "net_sqm         -0.409225 -0.050120  0.681987  \n",
              "center_distance  0.022840  0.011684 -0.418161  \n",
              "metro_distance   0.003137  0.011848 -0.146373  \n",
              "floor            1.000000  0.022045 -0.136713  \n",
              "age              0.022045  1.000000 -0.225119  \n",
              "price           -0.136713 -0.225119  1.000000  "
            ]
          },
          "execution_count": 7,
          "metadata": {},
          "output_type": "execute_result"
        }
      ],
      "source": [
        "df.corr()"
      ]
    },
    {
      "cell_type": "code",
      "execution_count": 8,
      "metadata": {
        "colab": {
          "base_uri": "https://localhost:8080/",
          "height": 532
        },
        "id": "HEzsD2qPukvX",
        "outputId": "8f7b83ba-8743-438c-cec7-564e9af2ecfd"
      },
      "outputs": [
        {
          "data": {
            "image/png": "[encoded data removed]",
            "text/plain": [
              "<Figure size 640x480 with 2 Axes>"
            ]
          },
          "metadata": {},
          "output_type": "display_data"
        }
      ],
      "source": [
        "import seaborn as sns\n",
        "import matplotlib.pyplot as plt\n",
        "\n",
        "sns.heatmap(df.corr(), annot=True)\n",
        "plt.show()"
      ]
    },
    {
      "cell_type": "markdown",
      "metadata": {
        "id": "ZiLDhbNs8XHS"
      },
      "source": [
        "# **Satu Fitur**"
      ]
    },
    {
      "cell_type": "code",
      "execution_count": 9,
      "metadata": {
        "colab": {
          "base_uri": "https://localhost:8080/",
          "height": 424
        },
        "id": "dk_taiufrkjT",
        "outputId": "7eb64631-dce8-46f3-d8c7-71ee9c493cdc"
      },
      "outputs": [
        {
          "data": {
            "text/html": [
              "<div>\n",
              "<style scoped>\n",
              "    .dataframe tbody tr th:only-of-type {\n",
              "        vertical-align: middle;\n",
              "    }\n",
              "\n",
              "    .dataframe tbody tr th {\n",
              "        vertical-align: top;\n",
              "    }\n",
              "\n",
              "    .dataframe thead th {\n",
              "        text-align: right;\n",
              "    }\n",
              "</style>\n",
              "<table border=\"1\" class=\"dataframe\">\n",
              "  <thead>\n",
              "    <tr style=\"text-align: right;\">\n",
              "      <th></th>\n",
              "      <th>bedroom_count</th>\n",
              "    </tr>\n",
              "  </thead>\n",
              "  <tbody>\n",
              "    <tr>\n",
              "      <th>0</th>\n",
              "      <td>1</td>\n",
              "    </tr>\n",
              "    <tr>\n",
              "      <th>1</th>\n",
              "      <td>1</td>\n",
              "    </tr>\n",
              "    <tr>\n",
              "      <th>2</th>\n",
              "      <td>1</td>\n",
              "    </tr>\n",
              "    <tr>\n",
              "      <th>3</th>\n",
              "      <td>1</td>\n",
              "    </tr>\n",
              "    <tr>\n",
              "      <th>4</th>\n",
              "      <td>1</td>\n",
              "    </tr>\n",
              "    <tr>\n",
              "      <th>...</th>\n",
              "      <td>...</td>\n",
              "    </tr>\n",
              "    <tr>\n",
              "      <th>4303</th>\n",
              "      <td>9</td>\n",
              "    </tr>\n",
              "    <tr>\n",
              "      <th>4304</th>\n",
              "      <td>6</td>\n",
              "    </tr>\n",
              "    <tr>\n",
              "      <th>4305</th>\n",
              "      <td>5</td>\n",
              "    </tr>\n",
              "    <tr>\n",
              "      <th>4306</th>\n",
              "      <td>1</td>\n",
              "    </tr>\n",
              "    <tr>\n",
              "      <th>4307</th>\n",
              "      <td>2</td>\n",
              "    </tr>\n",
              "  </tbody>\n",
              "</table>\n",
              "<p>4308 rows × 1 columns</p>\n",
              "</div>"
            ],
            "text/plain": [
              "      bedroom_count\n",
              "0                 1\n",
              "1                 1\n",
              "2                 1\n",
              "3                 1\n",
              "4                 1\n",
              "...             ...\n",
              "4303              9\n",
              "4304              6\n",
              "4305              5\n",
              "4306              1\n",
              "4307              2\n",
              "\n",
              "[4308 rows x 1 columns]"
            ]
          },
          "execution_count": 9,
          "metadata": {},
          "output_type": "execute_result"
        }
      ],
      "source": [
        "X = df[['bedroom_count']]\n",
        "X"
      ]
    },
    {
      "cell_type": "code",
      "execution_count": 10,
      "metadata": {
        "colab": {
          "base_uri": "https://localhost:8080/"
        },
        "id": "Xug7lm4wsGbG",
        "outputId": "2261bde2-06c8-46e4-9b21-090861d15cf9"
      },
      "outputs": [
        {
          "data": {
            "text/plain": [
              "0        96004.804557\n",
              "1        92473.722568\n",
              "2        98112.519942\n",
              "3        92118.326874\n",
              "4        98976.653176\n",
              "            ...      \n",
              "4303    102707.356224\n",
              "4304     99695.064992\n",
              "4305     93803.715617\n",
              "4306     92914.729126\n",
              "4307     93743.047292\n",
              "Name: price, Length: 4308, dtype: float64"
            ]
          },
          "execution_count": 10,
          "metadata": {},
          "output_type": "execute_result"
        }
      ],
      "source": [
        "y = df[\"price\"]\n",
        "y"
      ]
    },
    {
      "cell_type": "code",
      "execution_count": 11,
      "metadata": {
        "id": "Sp9Zl4MNrTA-"
      },
      "outputs": [],
      "source": [
        "X_train, X_test, y_train, y_test = train_test_split(X, y, test_size=0.2, random_state=42, shuffle=True)"
      ]
    },
    {
      "cell_type": "code",
      "execution_count": 12,
      "metadata": {
        "colab": {
          "base_uri": "https://localhost:8080/",
          "height": 75
        },
        "id": "CuVf7joOsjUx",
        "outputId": "4927a74b-4229-48df-faab-5dad5cf113dc"
      },
      "outputs": [
        {
          "data": {
            "text/html": [
              "<style>#sk-container-id-1 {color: black;}#sk-container-id-1 pre{padding: 0;}#sk-container-id-1 div.sk-toggleable {background-color: white;}#sk-container-id-1 label.sk-toggleable__label {cursor: pointer;display: block;width: 100%;margin-bottom: 0;padding: 0.3em;box-sizing: border-box;text-align: center;}#sk-container-id-1 label.sk-toggleable__label-arrow:before {content: \"▸\";float: left;margin-right: 0.25em;color: #696969;}#sk-container-id-1 label.sk-toggleable__label-arrow:hover:before {color: black;}#sk-container-id-1 div.sk-estimator:hover label.sk-toggleable__label-arrow:before {color: black;}#sk-container-id-1 div.sk-toggleable__content {max-height: 0;max-width: 0;overflow: hidden;text-align: left;background-color: #f0f8ff;}#sk-container-id-1 div.sk-toggleable__content pre {margin: 0.2em;color: black;border-radius: 0.25em;background-color: #f0f8ff;}#sk-container-id-1 input.sk-toggleable__control:checked~div.sk-toggleable__content {max-height: 200px;max-width: 100%;overflow: auto;}#sk-container-id-1 input.sk-toggleable__control:checked~label.sk-toggleable__label-arrow:before {content: \"▾\";}#sk-container-id-1 div.sk-estimator input.sk-toggleable__control:checked~label.sk-toggleable__label {background-color: #d4ebff;}#sk-container-id-1 div.sk-label input.sk-toggleable__control:checked~label.sk-toggleable__label {background-color: #d4ebff;}#sk-container-id-1 input.sk-hidden--visually {border: 0;clip: rect(1px 1px 1px 1px);clip: rect(1px, 1px, 1px, 1px);height: 1px;margin: -1px;overflow: hidden;padding: 0;position: absolute;width: 1px;}#sk-container-id-1 div.sk-estimator {font-family: monospace;background-color: #f0f8ff;border: 1px dotted black;border-radius: 0.25em;box-sizing: border-box;margin-bottom: 0.5em;}#sk-container-id-1 div.sk-estimator:hover {background-color: #d4ebff;}#sk-container-id-1 div.sk-parallel-item::after {content: \"\";width: 100%;border-bottom: 1px solid gray;flex-grow: 1;}#sk-container-id-1 div.sk-label:hover label.sk-toggleable__label {background-color: #d4ebff;}#sk-container-id-1 div.sk-serial::before {content: \"\";position: absolute;border-left: 1px solid gray;box-sizing: border-box;top: 0;bottom: 0;left: 50%;z-index: 0;}#sk-container-id-1 div.sk-serial {display: flex;flex-direction: column;align-items: center;background-color: white;padding-right: 0.2em;padding-left: 0.2em;position: relative;}#sk-container-id-1 div.sk-item {position: relative;z-index: 1;}#sk-container-id-1 div.sk-parallel {display: flex;align-items: stretch;justify-content: center;background-color: white;position: relative;}#sk-container-id-1 div.sk-item::before, #sk-container-id-1 div.sk-parallel-item::before {content: \"\";position: absolute;border-left: 1px solid gray;box-sizing: border-box;top: 0;bottom: 0;left: 50%;z-index: -1;}#sk-container-id-1 div.sk-parallel-item {display: flex;flex-direction: column;z-index: 1;position: relative;background-color: white;}#sk-container-id-1 div.sk-parallel-item:first-child::after {align-self: flex-end;width: 50%;}#sk-container-id-1 div.sk-parallel-item:last-child::after {align-self: flex-start;width: 50%;}#sk-container-id-1 div.sk-parallel-item:only-child::after {width: 0;}#sk-container-id-1 div.sk-dashed-wrapped {border: 1px dashed gray;margin: 0 0.4em 0.5em 0.4em;box-sizing: border-box;padding-bottom: 0.4em;background-color: white;}#sk-container-id-1 div.sk-label label {font-family: monospace;font-weight: bold;display: inline-block;line-height: 1.2em;}#sk-container-id-1 div.sk-label-container {text-align: center;}#sk-container-id-1 div.sk-container {/* jupyter's `normalize.less` sets `[hidden] { display: none; }` but bootstrap.min.css set `[hidden] { display: none !important; }` so we also need the `!important` here to be able to override the default hidden behavior on the sphinx rendered scikit-learn.org. See: https://github.com/scikit-learn/scikit-learn/issues/21755 */display: inline-block !important;position: relative;}#sk-container-id-1 div.sk-text-repr-fallback {display: none;}</style><div id=\"sk-container-id-1\" class=\"sk-top-container\"><div class=\"sk-text-repr-fallback\"><pre>LinearRegression()</pre><b>In a Jupyter environment, please rerun this cell to show the HTML representation or trust the notebook. <br />On GitHub, the HTML representation is unable to render, please try loading this page with nbviewer.org.</b></div><div class=\"sk-container\" hidden><div class=\"sk-item\"><div class=\"sk-estimator sk-toggleable\"><input class=\"sk-toggleable__control sk-hidden--visually\" id=\"sk-estimator-id-1\" type=\"checkbox\" checked><label for=\"sk-estimator-id-1\" class=\"sk-toggleable__label sk-toggleable__label-arrow\">LinearRegression</label><div class=\"sk-toggleable__content\"><pre>LinearRegression()</pre></div></div></div></div></div>"
            ],
            "text/plain": [
              "LinearRegression()"
            ]
          },
          "execution_count": 12,
          "metadata": {},
          "output_type": "execute_result"
        }
      ],
      "source": [
        "model = LinearRegression()\n",
        "model.fit(X_train, y_train)"
      ]
    },
    {
      "cell_type": "code",
      "execution_count": 13,
      "metadata": {
        "id": "zvD1sBDWtjw1"
      },
      "outputs": [],
      "source": [
        "y_pred = model.predict(X_test)"
      ]
    },
    {
      "cell_type": "code",
      "execution_count": 14,
      "metadata": {
        "colab": {
          "base_uri": "https://localhost:8080/"
        },
        "id": "ouOc978EtwIF",
        "outputId": "890f1b56-8b71-45a5-ddf0-8bd353c8907c"
      },
      "outputs": [
        {
          "name": "stdout",
          "output_type": "stream",
          "text": [
            "MAE: 2603.8948964552956\n",
            "MSE: 10465748.213103835\n",
            "RMSE: 3235.080866547826\n",
            "R^2: 0.2967492535231473\n"
          ]
        }
      ],
      "source": [
        "from sklearn.metrics import mean_absolute_error, mean_squared_error, r2_score\n",
        "\n",
        "def evaluasi_model(y_test, y_pred):\n",
        "  mae = mean_absolute_error(y_test, y_pred)\n",
        "  mse = mean_squared_error(y_test, y_pred)\n",
        "  rmse = np.sqrt(mse)\n",
        "  r2 = r2_score(y_test, y_pred)\n",
        "\n",
        "  return mae, mse, rmse, r2\n",
        "\n",
        "mae, mse, rmse, r2 = evaluasi_model(y_test, y_pred)\n",
        "\n",
        "print(f'MAE: {mae}')\n",
        "print(f'MSE: {mse}')\n",
        "print(f'RMSE: {rmse}')\n",
        "print(f'R^2: {r2}')"
      ]
    },
    {
      "cell_type": "markdown",
      "metadata": {
        "id": "_9Tsa9F89XP_"
      },
      "source": [
        "# **Multi Fitur**"
      ]
    },
    {
      "cell_type": "code",
      "execution_count": 15,
      "metadata": {
        "id": "mEkExtnc9WuJ"
      },
      "outputs": [],
      "source": [
        "from sklearn.preprocessing import MinMaxScaler\n",
        "scale = MinMaxScaler()"
      ]
    },
    {
      "cell_type": "code",
      "execution_count": 16,
      "metadata": {
        "colab": {
          "base_uri": "https://localhost:8080/"
        },
        "id": "3dGS7B9F-bWJ",
        "outputId": "eb7ae294-ab9d-45fc-e4dc-e2ccc1a002d9"
      },
      "outputs": [
        {
          "data": {
            "text/plain": [
              "(      bedroom_count     net_sqm  center_distance  metro_distance  floor  age\n",
              " 0                 1   26.184098          1286.68      204.003817     22   67\n",
              " 1                 1   34.866901          1855.25      186.980360      8   30\n",
              " 2                 1   36.980709           692.09      111.224999     24   24\n",
              " 3                 1   17.445723          1399.49      237.998760      1   66\n",
              " 4                 1   52.587646            84.65      100.996400     20    3\n",
              " ...             ...         ...              ...             ...    ...  ...\n",
              " 4303              9  175.166533          1299.71      217.739012      2    5\n",
              " 4304              6  215.352151          1346.36       77.724676     14    5\n",
              " 4305              5  299.563972          1585.37      235.537881      3    5\n",
              " 4306              1   29.193907          1896.23      147.223827      4    2\n",
              " 4307              2   54.437573           255.24       25.524020     18    0\n",
              " \n",
              " [4308 rows x 6 columns],\n",
              " 0        96004.804557\n",
              " 1        92473.722568\n",
              " 2        98112.519942\n",
              " 3        92118.326874\n",
              " 4        98976.653176\n",
              "             ...      \n",
              " 4303    102707.356224\n",
              " 4304     99695.064992\n",
              " 4305     93803.715617\n",
              " 4306     92914.729126\n",
              " 4307     93743.047292\n",
              " Name: price, Length: 4308, dtype: float64)"
            ]
          },
          "execution_count": 16,
          "metadata": {},
          "output_type": "execute_result"
        }
      ],
      "source": [
        "X = df.drop(columns=['price'], axis=1)\n",
        "y = df['price']\n",
        "\n",
        "X, y"
      ]
    },
    {
      "cell_type": "code",
      "execution_count": 17,
      "metadata": {
        "colab": {
          "base_uri": "https://localhost:8080/",
          "height": 424
        },
        "id": "OPE2AugtuQZ_",
        "outputId": "4fe69c6f-7d33-4017-b613-10144c793367"
      },
      "outputs": [
        {
          "data": {
            "text/html": [
              "<div>\n",
              "<style scoped>\n",
              "    .dataframe tbody tr th:only-of-type {\n",
              "        vertical-align: middle;\n",
              "    }\n",
              "\n",
              "    .dataframe tbody tr th {\n",
              "        vertical-align: top;\n",
              "    }\n",
              "\n",
              "    .dataframe thead th {\n",
              "        text-align: right;\n",
              "    }\n",
              "</style>\n",
              "<table border=\"1\" class=\"dataframe\">\n",
              "  <thead>\n",
              "    <tr style=\"text-align: right;\">\n",
              "      <th></th>\n",
              "      <th>bedroom_count</th>\n",
              "      <th>net_sqm</th>\n",
              "      <th>center_distance</th>\n",
              "      <th>metro_distance</th>\n",
              "      <th>floor</th>\n",
              "      <th>age</th>\n",
              "    </tr>\n",
              "  </thead>\n",
              "  <tbody>\n",
              "    <tr>\n",
              "      <th>0</th>\n",
              "      <td>0.0000</td>\n",
              "      <td>0.021519</td>\n",
              "      <td>0.641275</td>\n",
              "      <td>0.616231</td>\n",
              "      <td>0.913043</td>\n",
              "      <td>0.690722</td>\n",
              "    </tr>\n",
              "    <tr>\n",
              "      <th>1</th>\n",
              "      <td>0.0000</td>\n",
              "      <td>0.033241</td>\n",
              "      <td>0.927270</td>\n",
              "      <td>0.564493</td>\n",
              "      <td>0.304348</td>\n",
              "      <td>0.309278</td>\n",
              "    </tr>\n",
              "    <tr>\n",
              "      <th>2</th>\n",
              "      <td>0.0000</td>\n",
              "      <td>0.036095</td>\n",
              "      <td>0.342191</td>\n",
              "      <td>0.334254</td>\n",
              "      <td>1.000000</td>\n",
              "      <td>0.247423</td>\n",
              "    </tr>\n",
              "    <tr>\n",
              "      <th>3</th>\n",
              "      <td>0.0000</td>\n",
              "      <td>0.009722</td>\n",
              "      <td>0.698019</td>\n",
              "      <td>0.719550</td>\n",
              "      <td>0.000000</td>\n",
              "      <td>0.680412</td>\n",
              "    </tr>\n",
              "    <tr>\n",
              "      <th>4</th>\n",
              "      <td>0.0000</td>\n",
              "      <td>0.057164</td>\n",
              "      <td>0.036644</td>\n",
              "      <td>0.303167</td>\n",
              "      <td>0.826087</td>\n",
              "      <td>0.030928</td>\n",
              "    </tr>\n",
              "    <tr>\n",
              "      <th>...</th>\n",
              "      <td>...</td>\n",
              "      <td>...</td>\n",
              "      <td>...</td>\n",
              "      <td>...</td>\n",
              "      <td>...</td>\n",
              "      <td>...</td>\n",
              "    </tr>\n",
              "    <tr>\n",
              "      <th>4303</th>\n",
              "      <td>0.5000</td>\n",
              "      <td>0.222649</td>\n",
              "      <td>0.647829</td>\n",
              "      <td>0.657976</td>\n",
              "      <td>0.043478</td>\n",
              "      <td>0.051546</td>\n",
              "    </tr>\n",
              "    <tr>\n",
              "      <th>4304</th>\n",
              "      <td>0.3125</td>\n",
              "      <td>0.276900</td>\n",
              "      <td>0.671294</td>\n",
              "      <td>0.232439</td>\n",
              "      <td>0.565217</td>\n",
              "      <td>0.051546</td>\n",
              "    </tr>\n",
              "    <tr>\n",
              "      <th>4305</th>\n",
              "      <td>0.2500</td>\n",
              "      <td>0.390588</td>\n",
              "      <td>0.791518</td>\n",
              "      <td>0.712071</td>\n",
              "      <td>0.086957</td>\n",
              "      <td>0.051546</td>\n",
              "    </tr>\n",
              "    <tr>\n",
              "      <th>4306</th>\n",
              "      <td>0.0000</td>\n",
              "      <td>0.025582</td>\n",
              "      <td>0.947883</td>\n",
              "      <td>0.443663</td>\n",
              "      <td>0.130435</td>\n",
              "      <td>0.020619</td>\n",
              "    </tr>\n",
              "    <tr>\n",
              "      <th>4307</th>\n",
              "      <td>0.0625</td>\n",
              "      <td>0.059662</td>\n",
              "      <td>0.122452</td>\n",
              "      <td>0.073789</td>\n",
              "      <td>0.739130</td>\n",
              "      <td>0.000000</td>\n",
              "    </tr>\n",
              "  </tbody>\n",
              "</table>\n",
              "<p>4308 rows × 6 columns</p>\n",
              "</div>"
            ],
            "text/plain": [
              "      bedroom_count   net_sqm  center_distance  metro_distance     floor  \\\n",
              "0            0.0000  0.021519         0.641275        0.616231  0.913043   \n",
              "1            0.0000  0.033241         0.927270        0.564493  0.304348   \n",
              "2            0.0000  0.036095         0.342191        0.334254  1.000000   \n",
              "3            0.0000  0.009722         0.698019        0.719550  0.000000   \n",
              "4            0.0000  0.057164         0.036644        0.303167  0.826087   \n",
              "...             ...       ...              ...             ...       ...   \n",
              "4303         0.5000  0.222649         0.647829        0.657976  0.043478   \n",
              "4304         0.3125  0.276900         0.671294        0.232439  0.565217   \n",
              "4305         0.2500  0.390588         0.791518        0.712071  0.086957   \n",
              "4306         0.0000  0.025582         0.947883        0.443663  0.130435   \n",
              "4307         0.0625  0.059662         0.122452        0.073789  0.739130   \n",
              "\n",
              "           age  \n",
              "0     0.690722  \n",
              "1     0.309278  \n",
              "2     0.247423  \n",
              "3     0.680412  \n",
              "4     0.030928  \n",
              "...        ...  \n",
              "4303  0.051546  \n",
              "4304  0.051546  \n",
              "4305  0.051546  \n",
              "4306  0.020619  \n",
              "4307  0.000000  \n",
              "\n",
              "[4308 rows x 6 columns]"
            ]
          },
          "execution_count": 17,
          "metadata": {},
          "output_type": "execute_result"
        }
      ],
      "source": [
        "X_scale = pd.DataFrame(scale.fit_transform(X), columns=X.columns)\n",
        "X_scale"
      ]
    },
    {
      "cell_type": "code",
      "execution_count": 18,
      "metadata": {
        "id": "id90XakW_Ncj"
      },
      "outputs": [],
      "source": [
        "X_train, X_test, y_train, y_test = train_test_split(X_scale, y, test_size=0.2, random_state=42, shuffle=True)"
      ]
    },
    {
      "cell_type": "code",
      "execution_count": 19,
      "metadata": {
        "id": "oGyghADE--jl"
      },
      "outputs": [],
      "source": [
        "model2 = LinearRegression()"
      ]
    },
    {
      "cell_type": "code",
      "execution_count": 20,
      "metadata": {
        "colab": {
          "base_uri": "https://localhost:8080/",
          "height": 75
        },
        "id": "CsiT9cY__DoW",
        "outputId": "b69bcf62-2e05-4d14-ae9b-4e152fa587b5"
      },
      "outputs": [
        {
          "data": {
            "text/html": [
              "<style>#sk-container-id-2 {color: black;}#sk-container-id-2 pre{padding: 0;}#sk-container-id-2 div.sk-toggleable {background-color: white;}#sk-container-id-2 label.sk-toggleable__label {cursor: pointer;display: block;width: 100%;margin-bottom: 0;padding: 0.3em;box-sizing: border-box;text-align: center;}#sk-container-id-2 label.sk-toggleable__label-arrow:before {content: \"▸\";float: left;margin-right: 0.25em;color: #696969;}#sk-container-id-2 label.sk-toggleable__label-arrow:hover:before {color: black;}#sk-container-id-2 div.sk-estimator:hover label.sk-toggleable__label-arrow:before {color: black;}#sk-container-id-2 div.sk-toggleable__content {max-height: 0;max-width: 0;overflow: hidden;text-align: left;background-color: #f0f8ff;}#sk-container-id-2 div.sk-toggleable__content pre {margin: 0.2em;color: black;border-radius: 0.25em;background-color: #f0f8ff;}#sk-container-id-2 input.sk-toggleable__control:checked~div.sk-toggleable__content {max-height: 200px;max-width: 100%;overflow: auto;}#sk-container-id-2 input.sk-toggleable__control:checked~label.sk-toggleable__label-arrow:before {content: \"▾\";}#sk-container-id-2 div.sk-estimator input.sk-toggleable__control:checked~label.sk-toggleable__label {background-color: #d4ebff;}#sk-container-id-2 div.sk-label input.sk-toggleable__control:checked~label.sk-toggleable__label {background-color: #d4ebff;}#sk-container-id-2 input.sk-hidden--visually {border: 0;clip: rect(1px 1px 1px 1px);clip: rect(1px, 1px, 1px, 1px);height: 1px;margin: -1px;overflow: hidden;padding: 0;position: absolute;width: 1px;}#sk-container-id-2 div.sk-estimator {font-family: monospace;background-color: #f0f8ff;border: 1px dotted black;border-radius: 0.25em;box-sizing: border-box;margin-bottom: 0.5em;}#sk-container-id-2 div.sk-estimator:hover {background-color: #d4ebff;}#sk-container-id-2 div.sk-parallel-item::after {content: \"\";width: 100%;border-bottom: 1px solid gray;flex-grow: 1;}#sk-container-id-2 div.sk-label:hover label.sk-toggleable__label {background-color: #d4ebff;}#sk-container-id-2 div.sk-serial::before {content: \"\";position: absolute;border-left: 1px solid gray;box-sizing: border-box;top: 0;bottom: 0;left: 50%;z-index: 0;}#sk-container-id-2 div.sk-serial {display: flex;flex-direction: column;align-items: center;background-color: white;padding-right: 0.2em;padding-left: 0.2em;position: relative;}#sk-container-id-2 div.sk-item {position: relative;z-index: 1;}#sk-container-id-2 div.sk-parallel {display: flex;align-items: stretch;justify-content: center;background-color: white;position: relative;}#sk-container-id-2 div.sk-item::before, #sk-container-id-2 div.sk-parallel-item::before {content: \"\";position: absolute;border-left: 1px solid gray;box-sizing: border-box;top: 0;bottom: 0;left: 50%;z-index: -1;}#sk-container-id-2 div.sk-parallel-item {display: flex;flex-direction: column;z-index: 1;position: relative;background-color: white;}#sk-container-id-2 div.sk-parallel-item:first-child::after {align-self: flex-end;width: 50%;}#sk-container-id-2 div.sk-parallel-item:last-child::after {align-self: flex-start;width: 50%;}#sk-container-id-2 div.sk-parallel-item:only-child::after {width: 0;}#sk-container-id-2 div.sk-dashed-wrapped {border: 1px dashed gray;margin: 0 0.4em 0.5em 0.4em;box-sizing: border-box;padding-bottom: 0.4em;background-color: white;}#sk-container-id-2 div.sk-label label {font-family: monospace;font-weight: bold;display: inline-block;line-height: 1.2em;}#sk-container-id-2 div.sk-label-container {text-align: center;}#sk-container-id-2 div.sk-container {/* jupyter's `normalize.less` sets `[hidden] { display: none; }` but bootstrap.min.css set `[hidden] { display: none !important; }` so we also need the `!important` here to be able to override the default hidden behavior on the sphinx rendered scikit-learn.org. See: https://github.com/scikit-learn/scikit-learn/issues/21755 */display: inline-block !important;position: relative;}#sk-container-id-2 div.sk-text-repr-fallback {display: none;}</style><div id=\"sk-container-id-2\" class=\"sk-top-container\"><div class=\"sk-text-repr-fallback\"><pre>LinearRegression()</pre><b>In a Jupyter environment, please rerun this cell to show the HTML representation or trust the notebook. <br />On GitHub, the HTML representation is unable to render, please try loading this page with nbviewer.org.</b></div><div class=\"sk-container\" hidden><div class=\"sk-item\"><div class=\"sk-estimator sk-toggleable\"><input class=\"sk-toggleable__control sk-hidden--visually\" id=\"sk-estimator-id-2\" type=\"checkbox\" checked><label for=\"sk-estimator-id-2\" class=\"sk-toggleable__label sk-toggleable__label-arrow\">LinearRegression</label><div class=\"sk-toggleable__content\"><pre>LinearRegression()</pre></div></div></div></div></div>"
            ],
            "text/plain": [
              "LinearRegression()"
            ]
          },
          "execution_count": 20,
          "metadata": {},
          "output_type": "execute_result"
        }
      ],
      "source": [
        "model2.fit(X_train, y_train)"
      ]
    },
    {
      "cell_type": "code",
      "execution_count": 21,
      "metadata": {
        "id": "cOOZilan_YT3"
      },
      "outputs": [],
      "source": [
        "y_pred = model2.predict(X_test)"
      ]
    },
    {
      "cell_type": "code",
      "execution_count": 22,
      "metadata": {
        "colab": {
          "base_uri": "https://localhost:8080/"
        },
        "id": "DGhq8xUh_jrf",
        "outputId": "6cccbfe2-33cc-494d-d4cb-d196fd85f74e"
      },
      "outputs": [
        {
          "name": "stdout",
          "output_type": "stream",
          "text": [
            "MAE: 1482.3528087565555\n",
            "MSE: 4028777.98526263\n",
            "RMSE: 2007.1816024621762\n",
            "R^2: 0.729284417335968\n"
          ]
        }
      ],
      "source": [
        "mae, mse, rmse, r2 = evaluasi_model(y_test, y_pred)\n",
        "\n",
        "print(f'MAE: {mae}')\n",
        "print(f'MSE: {mse}')\n",
        "print(f'RMSE: {rmse}')\n",
        "print(f'R^2: {r2}')"
      ]
    },
    {
      "cell_type": "code",
      "execution_count": 22,
      "metadata": {
        "id": "HlWPAsCW_qt9"
      },
      "outputs": [],
      "source": []
    }
  ],
  "metadata": {
    "colab": {
      "provenance": []
    },
    "kernelspec": {
      "display_name": "Python 3",
      "name": "python3"
    },
    "language_info": {
      "codemirror_mode": {
        "name": "ipython",
        "version": 3
      },
      "file_extension": ".py",
      "mimetype": "text/x-python",
      "name": "python",
      "nbconvert_exporter": "python",
      "pygments_lexer": "ipython3",
      "version": "3.11.4"
    }
  },
  "nbformat": 4,
  "nbformat_minor": 0
}
