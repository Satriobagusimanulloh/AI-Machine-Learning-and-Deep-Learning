{
  "nbformat": 4,
  "nbformat_minor": 0,
  "metadata": {
    "colab": {
      "provenance": []
    },
    "kernelspec": {
      "name": "python3",
      "display_name": "Python 3"
    },
    "language_info": {
      "name": "python"
    }
  },
  "cells": [
    {
      "cell_type": "code",
      "execution_count": null,
      "metadata": {
        "id": "Y28mdqMv5c6g"
      },
      "outputs": [],
      "source": [
        "import numpy as np\n",
        "import tensorflow as tf\n",
        "from tensorflow import keras\n",
        "from tensorflow.keras.models import Sequential\n",
        "from tensorflow.keras.layers import Dense, Flatten\n",
        "from tensorflow import optimizers"
      ]
    },
    {
      "cell_type": "code",
      "source": [
        "# class myCallback(keras.callbacks.Callback):\n",
        "#   def on_epoch_end(self, epoch, logs={}):\n",
        "#     if (logs.get('accuracy') > 0.9):\n",
        "#       self.model.stop_training = True\n",
        "\n",
        "# callback = myCallback()"
      ],
      "metadata": {
        "id": "r2v2eosOARAc"
      },
      "execution_count": null,
      "outputs": []
    },
    {
      "cell_type": "code",
      "source": [
        "fminst = tf.keras.datasets.fashion_mnist\n",
        "\n",
        "(train_data, train_label), (test_data, test_label) = fminst.load_data()"
      ],
      "metadata": {
        "colab": {
          "base_uri": "https://localhost:8080/"
        },
        "id": "u6WWtaqc6IiI",
        "outputId": "08e95a93-c2ca-4627-c204-19e3730b57cc"
      },
      "execution_count": null,
      "outputs": [
        {
          "output_type": "stream",
          "name": "stdout",
          "text": [
            "Downloading data from https://storage.googleapis.com/tensorflow/tf-keras-datasets/train-labels-idx1-ubyte.gz\n",
            "29515/29515 [==============================] - 0s 0us/step\n",
            "Downloading data from https://storage.googleapis.com/tensorflow/tf-keras-datasets/train-images-idx3-ubyte.gz\n",
            "26421880/26421880 [==============================] - 0s 0us/step\n",
            "Downloading data from https://storage.googleapis.com/tensorflow/tf-keras-datasets/t10k-labels-idx1-ubyte.gz\n",
            "5148/5148 [==============================] - 0s 0us/step\n",
            "Downloading data from https://storage.googleapis.com/tensorflow/tf-keras-datasets/t10k-images-idx3-ubyte.gz\n",
            "4422102/4422102 [==============================] - 0s 0us/step\n"
          ]
        }
      ]
    },
    {
      "cell_type": "code",
      "source": [
        "# preprocessing data (normalize the pixel values of the train and test images)\n",
        "\n",
        "train_data = train_data/255.\n",
        "test_data = test_data/255."
      ],
      "metadata": {
        "id": "Jidg2Dr_6ekC"
      },
      "execution_count": null,
      "outputs": []
    },
    {
      "cell_type": "code",
      "source": [
        "model = Sequential([Flatten(),\n",
        "                    Dense(units=256, activation='relu'),\n",
        "                    Dense(units=10, activation='softmax')])"
      ],
      "metadata": {
        "id": "Pec_Z8cW6k7K"
      },
      "execution_count": null,
      "outputs": []
    },
    {
      "cell_type": "code",
      "source": [
        "model.compile(optimizer=optimizers.Adam(),\n",
        "              loss='sparse_categorical_crossentropy',\n",
        "              metrics=['accuracy'])\n",
        "\n",
        "model.fit(train_data,\n",
        "          train_label,\n",
        "          epochs=5\n",
        "          # callbacks=[callback]\n",
        "          )"
      ],
      "metadata": {
        "colab": {
          "base_uri": "https://localhost:8080/"
        },
        "id": "hhb6kGHO8w7Y",
        "outputId": "cacf97c1-68fa-49a9-8a1d-e5c0321268b3"
      },
      "execution_count": null,
      "outputs": [
        {
          "output_type": "stream",
          "name": "stdout",
          "text": [
            "Epoch 1/5\n",
            "1875/1875 [==============================] - 14s 7ms/step - loss: 0.4811 - accuracy: 0.8293\n",
            "Epoch 2/5\n",
            "1875/1875 [==============================] - 9s 5ms/step - loss: 0.3620 - accuracy: 0.8679\n",
            "Epoch 3/5\n",
            "1875/1875 [==============================] - 7s 4ms/step - loss: 0.3264 - accuracy: 0.8804\n",
            "Epoch 4/5\n",
            "1875/1875 [==============================] - 9s 5ms/step - loss: 0.3021 - accuracy: 0.8880\n",
            "Epoch 5/5\n",
            "1875/1875 [==============================] - 9s 5ms/step - loss: 0.2844 - accuracy: 0.8944\n"
          ]
        },
        {
          "output_type": "execute_result",
          "data": {
            "text/plain": [
              "<keras.src.callbacks.History at 0x7ae9b51ffa30>"
            ]
          },
          "metadata": {},
          "execution_count": 6
        }
      ]
    },
    {
      "cell_type": "code",
      "source": [
        "model.evaluate(test_data, test_label)"
      ],
      "metadata": {
        "colab": {
          "base_uri": "https://localhost:8080/"
        },
        "id": "-TP-RhzA9c23",
        "outputId": "8bd36f21-f8f8-4836-d4ca-90fd2db5bd11"
      },
      "execution_count": null,
      "outputs": [
        {
          "output_type": "stream",
          "name": "stdout",
          "text": [
            "313/313 [==============================] - 1s 3ms/step - loss: 0.3504 - accuracy: 0.8704\n"
          ]
        },
        {
          "output_type": "execute_result",
          "data": {
            "text/plain": [
              "[0.35036537051200867, 0.8704000115394592]"
            ]
          },
          "metadata": {},
          "execution_count": 7
        }
      ]
    },
    {
      "cell_type": "markdown",
      "source": [
        "# **Try using Convolutional Layer**"
      ],
      "metadata": {
        "id": "1JcwnCI5E59w"
      }
    },
    {
      "cell_type": "code",
      "source": [
        "from tensorflow.keras.layers import Conv2D, MaxPooling2D, Dropout\n",
        "\n",
        "model_2 = Sequential([Conv2D(32, (3,3), activation='relu', input_shape=(28, 28, 1)),\n",
        "                      MaxPooling2D(2, 2),\n",
        "                      Conv2D(64, (3,3), activation='relu'),\n",
        "                      MaxPooling2D(2, 2),\n",
        "                      Flatten(),\n",
        "                      Dense(units=128, activation='relu'),\n",
        "                      Dropout(0.2),\n",
        "                      tf.keras.layers.Dense(10, activation='softmax')])"
      ],
      "metadata": {
        "id": "fPFTePgz-R2w"
      },
      "execution_count": null,
      "outputs": []
    },
    {
      "cell_type": "code",
      "source": [
        "model_2.compile(optimizer='adam', loss='sparse_categorical_crossentropy', metrics=['accuracy'])"
      ],
      "metadata": {
        "id": "b4-Oa9xvGCvf"
      },
      "execution_count": null,
      "outputs": []
    },
    {
      "cell_type": "code",
      "source": [
        "print(f'\\nMODEL TRAINING:')\n",
        "model_2.fit(train_data, train_label, epochs=5)"
      ],
      "metadata": {
        "colab": {
          "base_uri": "https://localhost:8080/"
        },
        "id": "PVvxv_xqGKQf",
        "outputId": "13e2ef5c-4dae-4e52-deea-184126f807c2"
      },
      "execution_count": null,
      "outputs": [
        {
          "output_type": "stream",
          "name": "stdout",
          "text": [
            "\n",
            "MODEL TRAINING:\n",
            "Epoch 1/5\n",
            "1875/1875 [==============================] - 50s 26ms/step - loss: 0.4945 - accuracy: 0.8200\n",
            "Epoch 2/5\n",
            "1875/1875 [==============================] - 49s 26ms/step - loss: 0.3300 - accuracy: 0.8791\n",
            "Epoch 3/5\n",
            "1875/1875 [==============================] - 51s 27ms/step - loss: 0.2835 - accuracy: 0.8958\n",
            "Epoch 4/5\n",
            "1875/1875 [==============================] - 48s 26ms/step - loss: 0.2519 - accuracy: 0.9073\n",
            "Epoch 5/5\n",
            "1875/1875 [==============================] - 55s 29ms/step - loss: 0.2270 - accuracy: 0.9157\n"
          ]
        },
        {
          "output_type": "execute_result",
          "data": {
            "text/plain": [
              "<keras.src.callbacks.History at 0x7ae9d2784340>"
            ]
          },
          "metadata": {},
          "execution_count": 10
        }
      ]
    },
    {
      "cell_type": "code",
      "source": [
        "print(f'\\nMODEL EVALUATION:')\n",
        "test_loss = model_2.evaluate(test_data, test_label)"
      ],
      "metadata": {
        "colab": {
          "base_uri": "https://localhost:8080/"
        },
        "id": "gX0QKxiuGS9Y",
        "outputId": "1d948207-1f9a-4471-c0e3-5d4fa9c955c1"
      },
      "execution_count": null,
      "outputs": [
        {
          "output_type": "stream",
          "name": "stdout",
          "text": [
            "\n",
            "MODEL EVALUATION:\n",
            "313/313 [==============================] - 3s 8ms/step - loss: 0.2950 - accuracy: 0.8937\n"
          ]
        }
      ]
    },
    {
      "cell_type": "code",
      "source": [],
      "metadata": {
        "id": "-zjZ0a8WGgbT"
      },
      "execution_count": null,
      "outputs": []
    }
  ]
}