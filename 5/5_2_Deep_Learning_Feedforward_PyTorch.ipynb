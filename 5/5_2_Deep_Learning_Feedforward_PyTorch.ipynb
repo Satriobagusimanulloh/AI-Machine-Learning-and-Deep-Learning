{
  "nbformat": 4,
  "nbformat_minor": 0,
  "metadata": {
    "colab": {
      "provenance": [],
      "gpuType": "T4"
    },
    "kernelspec": {
      "name": "python3",
      "display_name": "Python 3"
    },
    "language_info": {
      "name": "python"
    },
    "accelerator": "GPU"
  },
  "cells": [
    {
      "cell_type": "markdown",
      "source": [
        "# **Import Library**"
      ],
      "metadata": {
        "id": "D1xWyiRZ7WR5"
      }
    },
    {
      "cell_type": "code",
      "execution_count": null,
      "metadata": {
        "id": "zveorwDLzAXS"
      },
      "outputs": [],
      "source": [
        "import torch\n",
        "import torch.nn as nn\n",
        "import torch.optim as optim\n",
        "from torchvision import transforms\n",
        "from torchvision.datasets import ImageFolder\n",
        "from torch.utils.data import DataLoader"
      ]
    },
    {
      "cell_type": "markdown",
      "source": [
        "# **Download Dataset**"
      ],
      "metadata": {
        "id": "v8n3cv7g7aLe"
      }
    },
    {
      "cell_type": "code",
      "source": [
        "!wget https://storage.googleapis.com/tensorflow-1-public/course2/week3/horse-or-human.zip"
      ],
      "metadata": {
        "colab": {
          "base_uri": "https://localhost:8080/"
        },
        "id": "LLclm5vK1c88",
        "outputId": "623c1287-9abf-4167-ae4d-9cbbaf58fe8e"
      },
      "execution_count": null,
      "outputs": [
        {
          "output_type": "stream",
          "name": "stdout",
          "text": [
            "--2023-12-10 10:06:47--  https://storage.googleapis.com/tensorflow-1-public/course2/week3/horse-or-human.zip\n",
            "Resolving storage.googleapis.com (storage.googleapis.com)... 209.85.200.207, 209.85.234.207, 142.251.171.207, ...\n",
            "Connecting to storage.googleapis.com (storage.googleapis.com)|209.85.200.207|:443... connected.\n",
            "HTTP request sent, awaiting response... 200 OK\n",
            "Length: 149574867 (143M) [application/zip]\n",
            "Saving to: ‘horse-or-human.zip’\n",
            "\n",
            "horse-or-human.zip  100%[===================>] 142.65M   202MB/s    in 0.7s    \n",
            "\n",
            "2023-12-10 10:06:48 (202 MB/s) - ‘horse-or-human.zip’ saved [149574867/149574867]\n",
            "\n"
          ]
        }
      ]
    },
    {
      "cell_type": "code",
      "source": [
        "!wget https://storage.googleapis.com/tensorflow-1-public/course2/week3/validation-horse-or-human.zip"
      ],
      "metadata": {
        "colab": {
          "base_uri": "https://localhost:8080/"
        },
        "id": "qgFNELAm1j13",
        "outputId": "9eddd812-9016-49f7-8743-32e06e203798"
      },
      "execution_count": null,
      "outputs": [
        {
          "output_type": "stream",
          "name": "stdout",
          "text": [
            "--2023-12-10 10:06:48--  https://storage.googleapis.com/tensorflow-1-public/course2/week3/validation-horse-or-human.zip\n",
            "Resolving storage.googleapis.com (storage.googleapis.com)... 209.85.200.207, 209.85.234.207, 142.251.171.207, ...\n",
            "Connecting to storage.googleapis.com (storage.googleapis.com)|209.85.200.207|:443... connected.\n",
            "HTTP request sent, awaiting response... 200 OK\n",
            "Length: 11480187 (11M) [application/zip]\n",
            "Saving to: ‘validation-horse-or-human.zip’\n",
            "\n",
            "\r          validatio   0%[                    ]       0  --.-KB/s               \rvalidation-horse-or 100%[===================>]  10.95M  --.-KB/s    in 0.1s    \n",
            "\n",
            "2023-12-10 10:06:48 (89.1 MB/s) - ‘validation-horse-or-human.zip’ saved [11480187/11480187]\n",
            "\n"
          ]
        }
      ]
    },
    {
      "cell_type": "markdown",
      "source": [
        "# **Extract Dataset**"
      ],
      "metadata": {
        "id": "uAwRbi4f7gBk"
      }
    },
    {
      "cell_type": "code",
      "source": [
        "import zipfile\n",
        "import os\n",
        "\n",
        "train_zip_dir = \"/content/horse-or-human.zip\"\n",
        "val_zip_dir = \"/content/validation-horse-or-human.zip\"\n",
        "\n",
        "train_dir = \"/content/train\"\n",
        "val_dir = \"/content/valid\"\n",
        "\n",
        "os.makedirs(train_dir, exist_ok=True)\n",
        "os.makedirs(val_dir, exist_ok=True)"
      ],
      "metadata": {
        "id": "6U-2DOp31loS"
      },
      "execution_count": null,
      "outputs": []
    },
    {
      "cell_type": "code",
      "source": [
        "with zipfile.ZipFile(train_zip_dir, mode='r') as zip_ref:\n",
        "  zip_ref.extractall(train_dir)\n",
        "\n",
        "with zipfile.ZipFile(val_zip_dir, mode='r') as zip_ref:\n",
        "  zip_ref.extractall(val_dir)"
      ],
      "metadata": {
        "id": "O5mLb1J-1o2r"
      },
      "execution_count": null,
      "outputs": []
    },
    {
      "cell_type": "code",
      "source": [
        "print(f'total training horse images: {len(os.listdir(\"/content/train/horses\"))}')\n",
        "print(f'total training human images: {len(os.listdir(\"/content/train/humans\"))}')\n",
        "print(f'total validation horse images: {len(os.listdir(\"/content/valid/horses\"))}')\n",
        "print(f'total validation human images: {len(os.listdir(\"/content/valid/humans\"))}')"
      ],
      "metadata": {
        "colab": {
          "base_uri": "https://localhost:8080/"
        },
        "id": "5zRrdgfz1yYR",
        "outputId": "95d47240-c120-4d02-91fb-2a7fc785b626"
      },
      "execution_count": null,
      "outputs": [
        {
          "output_type": "stream",
          "name": "stdout",
          "text": [
            "total training horse images: 500\n",
            "total training human images: 527\n",
            "total validation horse images: 128\n",
            "total validation human images: 128\n"
          ]
        }
      ]
    },
    {
      "cell_type": "markdown",
      "source": [
        "# **Data Preprocessing**"
      ],
      "metadata": {
        "id": "UtDAIj-k7nWz"
      }
    },
    {
      "cell_type": "code",
      "source": [
        "device = torch.device(\"cuda\" if torch.cuda.is_available() else \"cpu\")"
      ],
      "metadata": {
        "id": "ayxA_LN1Dauv"
      },
      "execution_count": null,
      "outputs": []
    },
    {
      "cell_type": "code",
      "source": [
        "# Augmentasi data gambar (contoh kali ini hanya melakukan resize, mengubah nilai ke tensor, dan normalisasi nilai pixel)\n",
        "normalize_transform = transforms.Compose([transforms.Resize((300, 300)),\n",
        "                                           transforms.ToTensor(),\n",
        "                                           transforms.Normalize(mean=[0.485, 0.456, 0.406], std=[0.229, 0.224, 0.225])\n",
        "                                           ])\n",
        "\n",
        "# Make a dataset dari data yang diunduh dan sudah di-unzip\n",
        "train_dataset = ImageFolder(train_dir, transform=normalize_transform)\n",
        "valid_dataset = ImageFolder(val_dir, transform=normalize_transform)\n",
        "\n",
        "batch_size_train = 128\n",
        "batch_size_valid = 16\n",
        "\n",
        "# Membuat data loader\n",
        "train_loader = DataLoader(train_dataset, batch_size=batch_size_train, shuffle=True)\n",
        "valid_loader = DataLoader(valid_dataset, batch_size=batch_size_valid, shuffle=False)"
      ],
      "metadata": {
        "id": "uFfp-1PI109C"
      },
      "execution_count": null,
      "outputs": []
    },
    {
      "cell_type": "markdown",
      "source": [
        "# **Make a Model**"
      ],
      "metadata": {
        "id": "o4ZdmXel7q56"
      }
    },
    {
      "cell_type": "code",
      "source": [
        "import torch.nn.functional as F\n",
        "\n",
        "class CustomCNN(nn.Module):\n",
        "  def __init__(self):\n",
        "    super(CustomCNN, self).__init__()\n",
        "    self.features = nn.Sequential(\n",
        "        nn.Conv2d(3, 16, kernel_size=2, stride=1, padding=0),\n",
        "        nn.ReLU(),\n",
        "        nn.MaxPool2d(kernel_size=2, stride=2),\n",
        "        nn.Conv2d(16, 32, kernel_size=2, stride=1, padding=0),\n",
        "        nn.ReLU(),\n",
        "        nn.MaxPool2d(kernel_size=2, stride=2),\n",
        "        nn.Conv2d(32, 32, kernel_size=2, stride=1, padding=0),\n",
        "        nn.ReLU(),\n",
        "        nn.MaxPool2d(kernel_size=2, stride=2),\n",
        "        nn.Conv2d(32, 64, kernel_size=2, stride=1, padding=0),\n",
        "        nn.ReLU(),\n",
        "        nn.MaxPool2d(kernel_size=2, stride=2),\n",
        "        nn.Conv2d(64, 128, kernel_size=2, stride=1, padding=0),\n",
        "        nn.ReLU(),\n",
        "        nn.MaxPool2d(kernel_size=2, stride=2),\n",
        "        nn.Conv2d(128, 256, kernel_size=2, stride=1, padding=0),\n",
        "        nn.ReLU(),\n",
        "        nn.MaxPool2d(kernel_size=2, stride=2),\n",
        "        )\n",
        "    self.flatten = nn.Flatten()\n",
        "    self.fc = nn.Sequential(\n",
        "        nn.Linear(256 * 3 * 3, 512),\n",
        "        nn.ReLU(),\n",
        "        nn.Linear(512, 1),\n",
        "        nn.Sigmoid()\n",
        "        )\n",
        "\n",
        "  def forward(self, x):\n",
        "    x = self.features(x)\n",
        "    x = self.flatten(x)\n",
        "    x = self.fc(x)\n",
        "    return x\n",
        "\n",
        "model = CustomCNN().to(device)\n",
        "\n",
        "# Setting optimizer and loss function\n",
        "optimizer = optim.RMSprop(params=model.parameters(), lr=0.0001)\n",
        "loss_func = nn.BCELoss()"
      ],
      "metadata": {
        "id": "89v47El264-A"
      },
      "execution_count": null,
      "outputs": []
    },
    {
      "cell_type": "markdown",
      "source": [
        "# **Training Model**"
      ],
      "metadata": {
        "id": "BH8w5vNSAeEr"
      }
    },
    {
      "cell_type": "code",
      "source": [
        "epochs = 20\n",
        "train_losses = []\n",
        "train_accuracies = []\n",
        "valid_accuracies = []\n",
        "\n",
        "for epoch in range(epochs):\n",
        "  model.train()\n",
        "  running_loss = 0.0\n",
        "  correct_train = 0\n",
        "  total_train = 0\n",
        "  for images, labels in train_loader:\n",
        "    images, labels = images.to(device), labels.float().to(device)\n",
        "    optimizer.zero_grad()\n",
        "    outputs = model(images)\n",
        "    loss = loss_func(outputs, labels.float().view(-1, 1))\n",
        "    loss.backward()\n",
        "    optimizer.step()\n",
        "\n",
        "    running_loss += loss.item()\n",
        "\n",
        "    predictions = (outputs > 0.5).float()\n",
        "    correct_train += (predictions == labels.view(-1, 1)).sum().item()\n",
        "    total_train += labels.size(0)\n",
        "\n",
        "  train_loss = running_loss / len(train_loader)\n",
        "  train_accuracy = correct_train / total_train\n",
        "  train_losses.append(train_loss)\n",
        "  train_accuracies.append(train_accuracy)\n",
        "\n",
        "  model.eval()\n",
        "  with torch.no_grad():\n",
        "    total_correct = 0\n",
        "    total_samples = 0\n",
        "    for images, labels in valid_loader:\n",
        "      images, labels = images.to(device), labels.float().to(device)\n",
        "      outputs = model(images)\n",
        "      predictions = (outputs > 0.5).float()\n",
        "      total_correct += (predictions == labels.view(-1, 1)).sum().item()\n",
        "      total_samples += labels.size(0)\n",
        "\n",
        "    valid_accuracy = total_correct / total_samples\n",
        "    valid_accuracies.append(valid_accuracy)\n",
        "\n",
        "  print(f'Epoch {epoch + 1}/{epochs}, '\n",
        "  f'Train Loss: {train_loss:.4f}, '\n",
        "  f'Train Accuracy: {train_accuracy:.4f}, '\n",
        "  f'Validation Accuracy: {valid_accuracy:.4f}')"
      ],
      "metadata": {
        "colab": {
          "base_uri": "https://localhost:8080/"
        },
        "id": "lxyIYN1t-7cy",
        "outputId": "0df99357-db41-4c69-f10b-c476c67aed2a"
      },
      "execution_count": null,
      "outputs": [
        {
          "output_type": "stream",
          "name": "stdout",
          "text": [
            "Epoch 1/20, Train Loss: 0.7055, Train Accuracy: 0.5355, Validation Accuracy: 0.5000\n",
            "Epoch 2/20, Train Loss: 0.5989, Train Accuracy: 0.7196, Validation Accuracy: 0.5078\n",
            "Epoch 3/20, Train Loss: 0.4374, Train Accuracy: 0.8121, Validation Accuracy: 0.6562\n",
            "Epoch 4/20, Train Loss: 0.3205, Train Accuracy: 0.8578, Validation Accuracy: 0.6328\n",
            "Epoch 5/20, Train Loss: 0.2980, Train Accuracy: 0.8676, Validation Accuracy: 0.8320\n",
            "Epoch 6/20, Train Loss: 0.2521, Train Accuracy: 0.9133, Validation Accuracy: 0.7734\n",
            "Epoch 7/20, Train Loss: 0.1969, Train Accuracy: 0.9124, Validation Accuracy: 0.8242\n",
            "Epoch 8/20, Train Loss: 0.1482, Train Accuracy: 0.9348, Validation Accuracy: 0.8086\n",
            "Epoch 9/20, Train Loss: 0.1469, Train Accuracy: 0.9357, Validation Accuracy: 0.8477\n",
            "Epoch 10/20, Train Loss: 0.1201, Train Accuracy: 0.9542, Validation Accuracy: 0.8477\n",
            "Epoch 11/20, Train Loss: 0.1257, Train Accuracy: 0.9630, Validation Accuracy: 0.8086\n",
            "Epoch 12/20, Train Loss: 0.1219, Train Accuracy: 0.9581, Validation Accuracy: 0.8438\n",
            "Epoch 13/20, Train Loss: 0.0961, Train Accuracy: 0.9669, Validation Accuracy: 0.8086\n",
            "Epoch 14/20, Train Loss: 0.1012, Train Accuracy: 0.9591, Validation Accuracy: 0.8359\n",
            "Epoch 15/20, Train Loss: 0.0937, Train Accuracy: 0.9757, Validation Accuracy: 0.8750\n",
            "Epoch 16/20, Train Loss: 0.1829, Train Accuracy: 0.9309, Validation Accuracy: 0.8242\n",
            "Epoch 17/20, Train Loss: 0.0655, Train Accuracy: 0.9796, Validation Accuracy: 0.8203\n",
            "Epoch 18/20, Train Loss: 0.0636, Train Accuracy: 0.9815, Validation Accuracy: 0.8242\n",
            "Epoch 19/20, Train Loss: 0.0578, Train Accuracy: 0.9805, Validation Accuracy: 0.8281\n",
            "Epoch 20/20, Train Loss: 0.0524, Train Accuracy: 0.9854, Validation Accuracy: 0.8281\n"
          ]
        }
      ]
    },
    {
      "cell_type": "markdown",
      "source": [
        "# **Predictions**"
      ],
      "metadata": {
        "id": "Y8r4riD8AgmU"
      }
    },
    {
      "cell_type": "code",
      "source": [
        "from PIL import Image\n",
        "from google.colab import files\n",
        "\n",
        "uploaded = files.upload()\n",
        "\n",
        "for fn in uploaded.keys():\n",
        "    path = \"/content/\" + fn\n",
        "    img = Image.open(path).convert(\"RGB\")\n",
        "    img = normalize_transform(img).unsqueeze(0).to(device)\n",
        "    output = model(img)\n",
        "    prediction = (output > 0.5).item()\n",
        "\n",
        "    if prediction:\n",
        "        print(fn + \" is a human\")\n",
        "    else:\n",
        "        print(fn + \" is a horse\")"
      ],
      "metadata": {
        "colab": {
          "base_uri": "https://localhost:8080/",
          "height": 92
        },
        "id": "COvJHKaDBWt0",
        "outputId": "2c9c7e81-abca-4778-a22a-07af8fb6bb20"
      },
      "execution_count": null,
      "outputs": [
        {
          "output_type": "display_data",
          "data": {
            "text/plain": [
              "<IPython.core.display.HTML object>"
            ],
            "text/html": [
              "\n",
              "     <input type=\"file\" id=\"files-391b0bd2-2493-4d95-b75e-54e2645d9a8f\" name=\"files[]\" multiple disabled\n",
              "        style=\"border:none\" />\n",
              "     <output id=\"result-391b0bd2-2493-4d95-b75e-54e2645d9a8f\">\n",
              "      Upload widget is only available when the cell has been executed in the\n",
              "      current browser session. Please rerun this cell to enable.\n",
              "      </output>\n",
              "      <script>// Copyright 2017 Google LLC\n",
              "//\n",
              "// Licensed under the Apache License, Version 2.0 (the \"License\");\n",
              "// you may not use this file except in compliance with the License.\n",
              "// You may obtain a copy of the License at\n",
              "//\n",
              "//      http://www.apache.org/licenses/LICENSE-2.0\n",
              "//\n",
              "// Unless required by applicable law or agreed to in writing, software\n",
              "// distributed under the License is distributed on an \"AS IS\" BASIS,\n",
              "// WITHOUT WARRANTIES OR CONDITIONS OF ANY KIND, either express or implied.\n",
              "// See the License for the specific language governing permissions and\n",
              "// limitations under the License.\n",
              "\n",
              "/**\n",
              " * @fileoverview Helpers for google.colab Python module.\n",
              " */\n",
              "(function(scope) {\n",
              "function span(text, styleAttributes = {}) {\n",
              "  const element = document.createElement('span');\n",
              "  element.textContent = text;\n",
              "  for (const key of Object.keys(styleAttributes)) {\n",
              "    element.style[key] = styleAttributes[key];\n",
              "  }\n",
              "  return element;\n",
              "}\n",
              "\n",
              "// Max number of bytes which will be uploaded at a time.\n",
              "const MAX_PAYLOAD_SIZE = 100 * 1024;\n",
              "\n",
              "function _uploadFiles(inputId, outputId) {\n",
              "  const steps = uploadFilesStep(inputId, outputId);\n",
              "  const outputElement = document.getElementById(outputId);\n",
              "  // Cache steps on the outputElement to make it available for the next call\n",
              "  // to uploadFilesContinue from Python.\n",
              "  outputElement.steps = steps;\n",
              "\n",
              "  return _uploadFilesContinue(outputId);\n",
              "}\n",
              "\n",
              "// This is roughly an async generator (not supported in the browser yet),\n",
              "// where there are multiple asynchronous steps and the Python side is going\n",
              "// to poll for completion of each step.\n",
              "// This uses a Promise to block the python side on completion of each step,\n",
              "// then passes the result of the previous step as the input to the next step.\n",
              "function _uploadFilesContinue(outputId) {\n",
              "  const outputElement = document.getElementById(outputId);\n",
              "  const steps = outputElement.steps;\n",
              "\n",
              "  const next = steps.next(outputElement.lastPromiseValue);\n",
              "  return Promise.resolve(next.value.promise).then((value) => {\n",
              "    // Cache the last promise value to make it available to the next\n",
              "    // step of the generator.\n",
              "    outputElement.lastPromiseValue = value;\n",
              "    return next.value.response;\n",
              "  });\n",
              "}\n",
              "\n",
              "/**\n",
              " * Generator function which is called between each async step of the upload\n",
              " * process.\n",
              " * @param {string} inputId Element ID of the input file picker element.\n",
              " * @param {string} outputId Element ID of the output display.\n",
              " * @return {!Iterable<!Object>} Iterable of next steps.\n",
              " */\n",
              "function* uploadFilesStep(inputId, outputId) {\n",
              "  const inputElement = document.getElementById(inputId);\n",
              "  inputElement.disabled = false;\n",
              "\n",
              "  const outputElement = document.getElementById(outputId);\n",
              "  outputElement.innerHTML = '';\n",
              "\n",
              "  const pickedPromise = new Promise((resolve) => {\n",
              "    inputElement.addEventListener('change', (e) => {\n",
              "      resolve(e.target.files);\n",
              "    });\n",
              "  });\n",
              "\n",
              "  const cancel = document.createElement('button');\n",
              "  inputElement.parentElement.appendChild(cancel);\n",
              "  cancel.textContent = 'Cancel upload';\n",
              "  const cancelPromise = new Promise((resolve) => {\n",
              "    cancel.onclick = () => {\n",
              "      resolve(null);\n",
              "    };\n",
              "  });\n",
              "\n",
              "  // Wait for the user to pick the files.\n",
              "  const files = yield {\n",
              "    promise: Promise.race([pickedPromise, cancelPromise]),\n",
              "    response: {\n",
              "      action: 'starting',\n",
              "    }\n",
              "  };\n",
              "\n",
              "  cancel.remove();\n",
              "\n",
              "  // Disable the input element since further picks are not allowed.\n",
              "  inputElement.disabled = true;\n",
              "\n",
              "  if (!files) {\n",
              "    return {\n",
              "      response: {\n",
              "        action: 'complete',\n",
              "      }\n",
              "    };\n",
              "  }\n",
              "\n",
              "  for (const file of files) {\n",
              "    const li = document.createElement('li');\n",
              "    li.append(span(file.name, {fontWeight: 'bold'}));\n",
              "    li.append(span(\n",
              "        `(${file.type || 'n/a'}) - ${file.size} bytes, ` +\n",
              "        `last modified: ${\n",
              "            file.lastModifiedDate ? file.lastModifiedDate.toLocaleDateString() :\n",
              "                                    'n/a'} - `));\n",
              "    const percent = span('0% done');\n",
              "    li.appendChild(percent);\n",
              "\n",
              "    outputElement.appendChild(li);\n",
              "\n",
              "    const fileDataPromise = new Promise((resolve) => {\n",
              "      const reader = new FileReader();\n",
              "      reader.onload = (e) => {\n",
              "        resolve(e.target.result);\n",
              "      };\n",
              "      reader.readAsArrayBuffer(file);\n",
              "    });\n",
              "    // Wait for the data to be ready.\n",
              "    let fileData = yield {\n",
              "      promise: fileDataPromise,\n",
              "      response: {\n",
              "        action: 'continue',\n",
              "      }\n",
              "    };\n",
              "\n",
              "    // Use a chunked sending to avoid message size limits. See b/62115660.\n",
              "    let position = 0;\n",
              "    do {\n",
              "      const length = Math.min(fileData.byteLength - position, MAX_PAYLOAD_SIZE);\n",
              "      const chunk = new Uint8Array(fileData, position, length);\n",
              "      position += length;\n",
              "\n",
              "      const base64 = btoa(String.fromCharCode.apply(null, chunk));\n",
              "      yield {\n",
              "        response: {\n",
              "          action: 'append',\n",
              "          file: file.name,\n",
              "          data: base64,\n",
              "        },\n",
              "      };\n",
              "\n",
              "      let percentDone = fileData.byteLength === 0 ?\n",
              "          100 :\n",
              "          Math.round((position / fileData.byteLength) * 100);\n",
              "      percent.textContent = `${percentDone}% done`;\n",
              "\n",
              "    } while (position < fileData.byteLength);\n",
              "  }\n",
              "\n",
              "  // All done.\n",
              "  yield {\n",
              "    response: {\n",
              "      action: 'complete',\n",
              "    }\n",
              "  };\n",
              "}\n",
              "\n",
              "scope.google = scope.google || {};\n",
              "scope.google.colab = scope.google.colab || {};\n",
              "scope.google.colab._files = {\n",
              "  _uploadFiles,\n",
              "  _uploadFilesContinue,\n",
              "};\n",
              "})(self);\n",
              "</script> "
            ]
          },
          "metadata": {}
        },
        {
          "output_type": "stream",
          "name": "stdout",
          "text": [
            "Saving WhatsApp Image 2022-01-19 at 6.10.44 AM.jpeg to WhatsApp Image 2022-01-19 at 6.10.44 AM.jpeg\n",
            "WhatsApp Image 2022-01-19 at 6.10.44 AM.jpeg is a horse\n"
          ]
        }
      ]
    },
    {
      "cell_type": "code",
      "source": [],
      "metadata": {
        "id": "mS_Q1L-wN6mY"
      },
      "execution_count": null,
      "outputs": []
    }
  ]
}