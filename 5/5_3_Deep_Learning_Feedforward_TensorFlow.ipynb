{
  "cells": [
    {
      "cell_type": "code",
      "execution_count": null,
      "metadata": {
        "colab": {
          "base_uri": "https://localhost:8080/"
        },
        "id": "wO7ftJC3gaIB",
        "outputId": "25d9c4ac-fb6c-4ac6-fa72-999d2ff7ac59"
      },
      "outputs": [
        {
          "output_type": "stream",
          "name": "stdout",
          "text": [
            "--2023-12-10 05:07:03--  https://storage.googleapis.com/tensorflow-1-public/course2/week3/horse-or-human.zip\n",
            "Resolving storage.googleapis.com (storage.googleapis.com)... 173.194.206.207, 209.85.200.207, 142.251.171.207, ...\n",
            "Connecting to storage.googleapis.com (storage.googleapis.com)|173.194.206.207|:443... connected.\n",
            "HTTP request sent, awaiting response... 200 OK\n",
            "Length: 149574867 (143M) [application/zip]\n",
            "Saving to: ‘horse-or-human.zip’\n",
            "\n",
            "horse-or-human.zip  100%[===================>] 142.65M   119MB/s    in 1.2s    \n",
            "\n",
            "2023-12-10 05:07:05 (119 MB/s) - ‘horse-or-human.zip’ saved [149574867/149574867]\n",
            "\n"
          ]
        }
      ],
      "source": [
        "!wget https://storage.googleapis.com/tensorflow-1-public/course2/week3/horse-or-human.zip"
      ]
    },
    {
      "cell_type": "code",
      "execution_count": null,
      "metadata": {
        "colab": {
          "base_uri": "https://localhost:8080/"
        },
        "id": "weGD183LgjzH",
        "outputId": "79d20106-9751-4a86-c3c2-7dce7940b2ff"
      },
      "outputs": [
        {
          "output_type": "stream",
          "name": "stdout",
          "text": [
            "--2023-12-10 05:07:05--  https://storage.googleapis.com/tensorflow-1-public/course2/week3/validation-horse-or-human.zip\n",
            "Resolving storage.googleapis.com (storage.googleapis.com)... 173.194.206.207, 209.85.200.207, 142.251.171.207, ...\n",
            "Connecting to storage.googleapis.com (storage.googleapis.com)|173.194.206.207|:443... connected.\n",
            "HTTP request sent, awaiting response... 200 OK\n",
            "Length: 11480187 (11M) [application/zip]\n",
            "Saving to: ‘validation-horse-or-human.zip’\n",
            "\n",
            "\r          validatio   0%[                    ]       0  --.-KB/s               \rvalidation-horse-or 100%[===================>]  10.95M  --.-KB/s    in 0.1s    \n",
            "\n",
            "2023-12-10 05:07:05 (90.9 MB/s) - ‘validation-horse-or-human.zip’ saved [11480187/11480187]\n",
            "\n"
          ]
        }
      ],
      "source": [
        "!wget https://storage.googleapis.com/tensorflow-1-public/course2/week3/validation-horse-or-human.zip"
      ]
    },
    {
      "cell_type": "code",
      "execution_count": null,
      "metadata": {
        "id": "qaRnIPWjg2UU"
      },
      "outputs": [],
      "source": [
        "import zipfile\n",
        "import os\n",
        "\n",
        "train_zip_dir = \"/content/horse-or-human.zip\"\n",
        "val_zip_dir = \"/content/validation-horse-or-human.zip\"\n",
        "\n",
        "train_dir = \"/content/train\"\n",
        "val_dir = \"/content/valid\"\n",
        "\n",
        "os.makedirs(train_dir, exist_ok=True)\n",
        "os.makedirs(val_dir, exist_ok=True)"
      ]
    },
    {
      "cell_type": "code",
      "execution_count": null,
      "metadata": {
        "id": "dm0h7UA8hKbm"
      },
      "outputs": [],
      "source": [
        "with zipfile.ZipFile(train_zip_dir, mode='r') as zip_ref:\n",
        "  zip_ref.extractall(train_dir)\n",
        "\n",
        "with zipfile.ZipFile(val_zip_dir, mode='r') as zip_ref:\n",
        "  zip_ref.extractall(val_dir)"
      ]
    },
    {
      "cell_type": "code",
      "execution_count": null,
      "metadata": {
        "colab": {
          "base_uri": "https://localhost:8080/"
        },
        "id": "MGcCqIYIjCqx",
        "outputId": "5416d618-c9ae-4e47-dd5b-c8fb4f1496b9"
      },
      "outputs": [
        {
          "output_type": "stream",
          "name": "stdout",
          "text": [
            "total training horse images: 500\n",
            "total training human images: 527\n",
            "total validation horse images: 128\n",
            "total validation human images: 128\n"
          ]
        }
      ],
      "source": [
        "print(f'total training horse images: {len(os.listdir(\"/content/train/horses\"))}')\n",
        "print(f'total training human images: {len(os.listdir(\"/content/train/humans\"))}')\n",
        "print(f'total validation horse images: {len(os.listdir(\"/content/valid/horses\"))}')\n",
        "print(f'total validation human images: {len(os.listdir(\"/content/valid/humans\"))}')"
      ]
    },
    {
      "cell_type": "code",
      "execution_count": null,
      "metadata": {
        "id": "EvIfPHJ9jdW0",
        "colab": {
          "base_uri": "https://localhost:8080/"
        },
        "outputId": "55ee41b0-25f0-4605-8756-e0f594ddef6a"
      },
      "outputs": [
        {
          "output_type": "stream",
          "name": "stdout",
          "text": [
            "Found 1027 images belonging to 2 classes.\n",
            "Found 256 images belonging to 2 classes.\n"
          ]
        }
      ],
      "source": [
        "from tensorflow.keras.preprocessing.image import ImageDataGenerator\n",
        "\n",
        "train_datagen = ImageDataGenerator(rescale=1./255\n",
        "                                  #  rotation_range=40,\n",
        "                                  #  width_shift_range=0.2,\n",
        "                                  #  height_shift_range=0.2,\n",
        "                                  #  shear_range=0.2,\n",
        "                                  #  zoom_range=0.2,\n",
        "                                  #  horizontal_flip=True,\n",
        "                                  #  fill_mode='nearest'\n",
        "                                   )\n",
        "\n",
        "valid_datagen = ImageDataGenerator(rescale=1./255)\n",
        "\n",
        "train_generator = train_datagen.flow_from_directory(train_dir,\n",
        "                                                    target_size=(300, 300),\n",
        "                                                    batch_size=128,\n",
        "                                                    class_mode='binary')\n",
        "\n",
        "valid_generator = valid_datagen.flow_from_directory(val_dir,\n",
        "                                                    target_size=(300, 300),\n",
        "                                                    batch_size=16,\n",
        "                                                    class_mode='binary')"
      ]
    },
    {
      "cell_type": "code",
      "execution_count": null,
      "metadata": {
        "id": "lgVpWVN_krhV"
      },
      "outputs": [],
      "source": [
        "from tensorflow.keras.models import Sequential\n",
        "from tensorflow.keras.layers import Dense, MaxPooling2D, Conv2D, Flatten, Dropout"
      ]
    },
    {
      "cell_type": "code",
      "execution_count": null,
      "metadata": {
        "id": "u7v-A-54lM23"
      },
      "outputs": [],
      "source": [
        "model = Sequential([Conv2D(16, (2, 2), activation='relu', input_shape=(300, 300, 3)),\n",
        "\n",
        "                    MaxPooling2D(2, 2),\n",
        "                    Conv2D(32, (2, 2), activation='relu'),\n",
        "                    MaxPooling2D(2, 2),\n",
        "                    Conv2D(32, (2, 2), activation='relu'),\n",
        "                    MaxPooling2D(2, 2),\n",
        "                    Conv2D(64, (2, 2), activation='relu'),\n",
        "                    MaxPooling2D(2, 2),\n",
        "                    Conv2D(128, (2, 2), activation='relu'),\n",
        "                    MaxPooling2D(2, 2),\n",
        "                    Conv2D(256, (2, 2), activation='relu'),\n",
        "                    MaxPooling2D(2, 2),\n",
        "                    Flatten(),\n",
        "                    Dense(512, activation='relu'),\n",
        "\n",
        "                    Dense(1, activation='sigmoid')\n",
        "                    ])"
      ]
    },
    {
      "cell_type": "code",
      "execution_count": null,
      "metadata": {
        "id": "JbMoujR6mnmm"
      },
      "outputs": [],
      "source": [
        "from tensorflow.keras.optimizers import Adam, RMSprop\n",
        "\n",
        "model.compile(loss='binary_crossentropy',\n",
        "              optimizer=RMSprop(learning_rate=1e-4),\n",
        "              metrics=['accuracy'])"
      ]
    },
    {
      "cell_type": "code",
      "execution_count": null,
      "metadata": {
        "colab": {
          "base_uri": "https://localhost:8080/"
        },
        "id": "bpy4qIvwnbjM",
        "outputId": "6da73a54-1f17-4253-870c-4728a329a0e0"
      },
      "outputs": [
        {
          "output_type": "stream",
          "name": "stdout",
          "text": [
            "Epoch 1/20\n",
            "8/8 [==============================] - 11s 1s/step - loss: 0.6859 - accuracy: 0.4994 - val_loss: 0.6784 - val_accuracy: 0.5000\n",
            "Epoch 2/20\n",
            "8/8 [==============================] - 8s 1s/step - loss: 0.6632 - accuracy: 0.6670 - val_loss: 0.6602 - val_accuracy: 0.6562\n",
            "Epoch 3/20\n",
            "8/8 [==============================] - 8s 959ms/step - loss: 0.6311 - accuracy: 0.8009 - val_loss: 0.6349 - val_accuracy: 0.6914\n",
            "Epoch 4/20\n",
            "8/8 [==============================] - 9s 1s/step - loss: 0.5871 - accuracy: 0.7842 - val_loss: 0.6045 - val_accuracy: 0.7383\n",
            "Epoch 5/20\n",
            "8/8 [==============================] - 8s 1s/step - loss: 0.5391 - accuracy: 0.7949 - val_loss: 0.5593 - val_accuracy: 0.7891\n",
            "Epoch 6/20\n",
            "8/8 [==============================] - 8s 1s/step - loss: 0.4938 - accuracy: 0.7764 - val_loss: 0.5363 - val_accuracy: 0.7539\n",
            "Epoch 7/20\n",
            "8/8 [==============================] - 9s 1s/step - loss: 0.4795 - accuracy: 0.7920 - val_loss: 0.5404 - val_accuracy: 0.7461\n",
            "Epoch 8/20\n",
            "8/8 [==============================] - 8s 1s/step - loss: 0.4139 - accuracy: 0.8276 - val_loss: 0.5359 - val_accuracy: 0.7617\n",
            "Epoch 9/20\n",
            "8/8 [==============================] - 8s 964ms/step - loss: 0.4005 - accuracy: 0.8276 - val_loss: 0.5506 - val_accuracy: 0.7578\n",
            "Epoch 10/20\n",
            "8/8 [==============================] - 8s 982ms/step - loss: 0.3570 - accuracy: 0.8699 - val_loss: 0.6733 - val_accuracy: 0.7227\n",
            "Epoch 11/20\n",
            "8/8 [==============================] - 9s 1s/step - loss: 0.3249 - accuracy: 0.8743 - val_loss: 0.4983 - val_accuracy: 0.8008\n",
            "Epoch 12/20\n",
            "8/8 [==============================] - 8s 953ms/step - loss: 0.2892 - accuracy: 0.8921 - val_loss: 1.2153 - val_accuracy: 0.6094\n",
            "Epoch 13/20\n",
            "8/8 [==============================] - 8s 936ms/step - loss: 0.3076 - accuracy: 0.8721 - val_loss: 0.5725 - val_accuracy: 0.8164\n",
            "Epoch 14/20\n",
            "8/8 [==============================] - 8s 994ms/step - loss: 0.3100 - accuracy: 0.8843 - val_loss: 0.5725 - val_accuracy: 0.8242\n",
            "Epoch 15/20\n",
            "8/8 [==============================] - 9s 1s/step - loss: 0.2301 - accuracy: 0.9307 - val_loss: 0.6633 - val_accuracy: 0.8203\n",
            "Epoch 16/20\n",
            "8/8 [==============================] - 8s 954ms/step - loss: 0.2205 - accuracy: 0.9321 - val_loss: 0.5896 - val_accuracy: 0.8320\n",
            "Epoch 17/20\n",
            "8/8 [==============================] - 9s 1s/step - loss: 0.2022 - accuracy: 0.9326 - val_loss: 0.7250 - val_accuracy: 0.8281\n",
            "Epoch 18/20\n",
            "8/8 [==============================] - 10s 1s/step - loss: 0.2073 - accuracy: 0.9255 - val_loss: 0.6642 - val_accuracy: 0.8320\n",
            "Epoch 19/20\n",
            "8/8 [==============================] - 8s 968ms/step - loss: 0.1595 - accuracy: 0.9499 - val_loss: 0.7383 - val_accuracy: 0.8320\n",
            "Epoch 20/20\n",
            "8/8 [==============================] - 9s 1s/step - loss: 0.1882 - accuracy: 0.9299 - val_loss: 0.9366 - val_accuracy: 0.8242\n"
          ]
        }
      ],
      "source": [
        "history = model.fit(train_generator,\n",
        "                    steps_per_epoch=8,\n",
        "                    epochs=20,\n",
        "                    verbose=1,\n",
        "                    validation_data = valid_generator,\n",
        "                    validation_steps=16)"
      ]
    },
    {
      "cell_type": "code",
      "execution_count": null,
      "metadata": {
        "colab": {
          "base_uri": "https://localhost:8080/",
          "height": 127
        },
        "id": "y0hMEXG0oiI2",
        "outputId": "6a1a4108-dba5-4cc6-973b-326519e99364"
      },
      "outputs": [
        {
          "output_type": "display_data",
          "data": {
            "text/plain": [
              "<IPython.core.display.HTML object>"
            ],
            "text/html": [
              "\n",
              "     <input type=\"file\" id=\"files-f664c287-82f4-4668-a584-6dd8517c7bf4\" name=\"files[]\" multiple disabled\n",
              "        style=\"border:none\" />\n",
              "     <output id=\"result-f664c287-82f4-4668-a584-6dd8517c7bf4\">\n",
              "      Upload widget is only available when the cell has been executed in the\n",
              "      current browser session. Please rerun this cell to enable.\n",
              "      </output>\n",
              "      <script>// Copyright 2017 Google LLC\n",
              "//\n",
              "// Licensed under the Apache License, Version 2.0 (the \"License\");\n",
              "// you may not use this file except in compliance with the License.\n",
              "// You may obtain a copy of the License at\n",
              "//\n",
              "//      http://www.apache.org/licenses/LICENSE-2.0\n",
              "//\n",
              "// Unless required by applicable law or agreed to in writing, software\n",
              "// distributed under the License is distributed on an \"AS IS\" BASIS,\n",
              "// WITHOUT WARRANTIES OR CONDITIONS OF ANY KIND, either express or implied.\n",
              "// See the License for the specific language governing permissions and\n",
              "// limitations under the License.\n",
              "\n",
              "/**\n",
              " * @fileoverview Helpers for google.colab Python module.\n",
              " */\n",
              "(function(scope) {\n",
              "function span(text, styleAttributes = {}) {\n",
              "  const element = document.createElement('span');\n",
              "  element.textContent = text;\n",
              "  for (const key of Object.keys(styleAttributes)) {\n",
              "    element.style[key] = styleAttributes[key];\n",
              "  }\n",
              "  return element;\n",
              "}\n",
              "\n",
              "// Max number of bytes which will be uploaded at a time.\n",
              "const MAX_PAYLOAD_SIZE = 100 * 1024;\n",
              "\n",
              "function _uploadFiles(inputId, outputId) {\n",
              "  const steps = uploadFilesStep(inputId, outputId);\n",
              "  const outputElement = document.getElementById(outputId);\n",
              "  // Cache steps on the outputElement to make it available for the next call\n",
              "  // to uploadFilesContinue from Python.\n",
              "  outputElement.steps = steps;\n",
              "\n",
              "  return _uploadFilesContinue(outputId);\n",
              "}\n",
              "\n",
              "// This is roughly an async generator (not supported in the browser yet),\n",
              "// where there are multiple asynchronous steps and the Python side is going\n",
              "// to poll for completion of each step.\n",
              "// This uses a Promise to block the python side on completion of each step,\n",
              "// then passes the result of the previous step as the input to the next step.\n",
              "function _uploadFilesContinue(outputId) {\n",
              "  const outputElement = document.getElementById(outputId);\n",
              "  const steps = outputElement.steps;\n",
              "\n",
              "  const next = steps.next(outputElement.lastPromiseValue);\n",
              "  return Promise.resolve(next.value.promise).then((value) => {\n",
              "    // Cache the last promise value to make it available to the next\n",
              "    // step of the generator.\n",
              "    outputElement.lastPromiseValue = value;\n",
              "    return next.value.response;\n",
              "  });\n",
              "}\n",
              "\n",
              "/**\n",
              " * Generator function which is called between each async step of the upload\n",
              " * process.\n",
              " * @param {string} inputId Element ID of the input file picker element.\n",
              " * @param {string} outputId Element ID of the output display.\n",
              " * @return {!Iterable<!Object>} Iterable of next steps.\n",
              " */\n",
              "function* uploadFilesStep(inputId, outputId) {\n",
              "  const inputElement = document.getElementById(inputId);\n",
              "  inputElement.disabled = false;\n",
              "\n",
              "  const outputElement = document.getElementById(outputId);\n",
              "  outputElement.innerHTML = '';\n",
              "\n",
              "  const pickedPromise = new Promise((resolve) => {\n",
              "    inputElement.addEventListener('change', (e) => {\n",
              "      resolve(e.target.files);\n",
              "    });\n",
              "  });\n",
              "\n",
              "  const cancel = document.createElement('button');\n",
              "  inputElement.parentElement.appendChild(cancel);\n",
              "  cancel.textContent = 'Cancel upload';\n",
              "  const cancelPromise = new Promise((resolve) => {\n",
              "    cancel.onclick = () => {\n",
              "      resolve(null);\n",
              "    };\n",
              "  });\n",
              "\n",
              "  // Wait for the user to pick the files.\n",
              "  const files = yield {\n",
              "    promise: Promise.race([pickedPromise, cancelPromise]),\n",
              "    response: {\n",
              "      action: 'starting',\n",
              "    }\n",
              "  };\n",
              "\n",
              "  cancel.remove();\n",
              "\n",
              "  // Disable the input element since further picks are not allowed.\n",
              "  inputElement.disabled = true;\n",
              "\n",
              "  if (!files) {\n",
              "    return {\n",
              "      response: {\n",
              "        action: 'complete',\n",
              "      }\n",
              "    };\n",
              "  }\n",
              "\n",
              "  for (const file of files) {\n",
              "    const li = document.createElement('li');\n",
              "    li.append(span(file.name, {fontWeight: 'bold'}));\n",
              "    li.append(span(\n",
              "        `(${file.type || 'n/a'}) - ${file.size} bytes, ` +\n",
              "        `last modified: ${\n",
              "            file.lastModifiedDate ? file.lastModifiedDate.toLocaleDateString() :\n",
              "                                    'n/a'} - `));\n",
              "    const percent = span('0% done');\n",
              "    li.appendChild(percent);\n",
              "\n",
              "    outputElement.appendChild(li);\n",
              "\n",
              "    const fileDataPromise = new Promise((resolve) => {\n",
              "      const reader = new FileReader();\n",
              "      reader.onload = (e) => {\n",
              "        resolve(e.target.result);\n",
              "      };\n",
              "      reader.readAsArrayBuffer(file);\n",
              "    });\n",
              "    // Wait for the data to be ready.\n",
              "    let fileData = yield {\n",
              "      promise: fileDataPromise,\n",
              "      response: {\n",
              "        action: 'continue',\n",
              "      }\n",
              "    };\n",
              "\n",
              "    // Use a chunked sending to avoid message size limits. See b/62115660.\n",
              "    let position = 0;\n",
              "    do {\n",
              "      const length = Math.min(fileData.byteLength - position, MAX_PAYLOAD_SIZE);\n",
              "      const chunk = new Uint8Array(fileData, position, length);\n",
              "      position += length;\n",
              "\n",
              "      const base64 = btoa(String.fromCharCode.apply(null, chunk));\n",
              "      yield {\n",
              "        response: {\n",
              "          action: 'append',\n",
              "          file: file.name,\n",
              "          data: base64,\n",
              "        },\n",
              "      };\n",
              "\n",
              "      let percentDone = fileData.byteLength === 0 ?\n",
              "          100 :\n",
              "          Math.round((position / fileData.byteLength) * 100);\n",
              "      percent.textContent = `${percentDone}% done`;\n",
              "\n",
              "    } while (position < fileData.byteLength);\n",
              "  }\n",
              "\n",
              "  // All done.\n",
              "  yield {\n",
              "    response: {\n",
              "      action: 'complete',\n",
              "    }\n",
              "  };\n",
              "}\n",
              "\n",
              "scope.google = scope.google || {};\n",
              "scope.google.colab = scope.google.colab || {};\n",
              "scope.google.colab._files = {\n",
              "  _uploadFiles,\n",
              "  _uploadFilesContinue,\n",
              "};\n",
              "})(self);\n",
              "</script> "
            ]
          },
          "metadata": {}
        },
        {
          "output_type": "stream",
          "name": "stdout",
          "text": [
            "Saving WhatsApp Image 2022-02-14 at 10.11.07 AM.jpeg to WhatsApp Image 2022-02-14 at 10.11.07 AM (1).jpeg\n",
            "1/1 [==============================] - 0s 179ms/step\n",
            "[0.6196105]\n",
            "WhatsApp Image 2022-02-14 at 10.11.07 AM (1).jpeg is a human\n"
          ]
        }
      ],
      "source": [
        "import numpy as np\n",
        "from google.colab import files\n",
        "from tensorflow.keras.preprocessing import image\n",
        "\n",
        "uploaded = files.upload()\n",
        "\n",
        "for fn in uploaded.keys():\n",
        "  path = \"/content/\" + fn\n",
        "  img = image.load_img(path, target_size=(300, 300))\n",
        "  x = image.img_to_array(img)\n",
        "  x /= 255\n",
        "  x = np.expand_dims(x, axis=0)\n",
        "\n",
        "  images = np.vstack([x])\n",
        "  classes = model.predict(images, batch_size=10)\n",
        "\n",
        "  print(classes[0])\n",
        "  if classes[0]>0.5:\n",
        "    print(fn + \" is a human\")\n",
        "  else:\n",
        "    print(fn + \" is a horse\")"
      ]
    },
    {
      "cell_type": "code",
      "execution_count": null,
      "metadata": {
        "id": "FlwrpoNopmMe",
        "colab": {
          "base_uri": "https://localhost:8080/",
          "height": 905
        },
        "outputId": "c1c91c35-0825-4fb1-ea2f-2579aa502d25"
      },
      "outputs": [
        {
          "output_type": "execute_result",
          "data": {
            "text/plain": [
              "Text(0.5, 1.0, 'Training and validation loss')"
            ]
          },
          "metadata": {},
          "execution_count": 33
        },
        {
          "output_type": "display_data",
          "data": {
            "text/plain": [
              "<Figure size 640x480 with 1 Axes>"
            ],
            "image/png": "[encoded data removed]"
          },
          "metadata": {}
        },
        {
          "output_type": "display_data",
          "data": {
            "text/plain": [
              "<Figure size 640x480 with 1 Axes>"
            ],
            "image/png": "[encoded data removed]"
          },
          "metadata": {}
        }
      ],
      "source": [
        "import matplotlib.pyplot as plt\n",
        "\n",
        "acc      = history.history[     'accuracy' ]\n",
        "val_acc  = history.history[ 'val_accuracy' ]\n",
        "loss     = history.history[    'loss' ]\n",
        "val_loss = history.history['val_loss' ]\n",
        "\n",
        "epochs   = range(len(acc)) # Get number of epochs\n",
        "\n",
        "plt.plot  ( epochs,     acc )\n",
        "plt.plot  ( epochs, val_acc )\n",
        "plt.title ('Training and validation accuracy')\n",
        "plt.figure()\n",
        "\n",
        "plt.plot  ( epochs,     loss )\n",
        "plt.plot  ( epochs, val_loss )\n",
        "plt.title ('Training and validation loss'   )"
      ]
    },
    {
      "cell_type": "code",
      "execution_count": null,
      "metadata": {
        "id": "IBxDfJqrqnun"
      },
      "outputs": [],
      "source": []
    }
  ],
  "metadata": {
    "accelerator": "GPU",
    "colab": {
      "provenance": []
    },
    "kernelspec": {
      "display_name": "Python 3",
      "name": "python3"
    },
    "language_info": {
      "name": "python"
    }
  },
  "nbformat": 4,
  "nbformat_minor": 0
}